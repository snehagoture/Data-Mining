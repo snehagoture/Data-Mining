{
 "cells": [
  {
   "cell_type": "markdown",
   "id": "1d95550c",
   "metadata": {},
   "source": [
    "# Practical 1-A"
   ]
  },
  {
   "cell_type": "markdown",
   "id": "8bb2232c",
   "metadata": {},
   "source": [
    "Q1) Data Exploration\n",
    "\n",
    "I)Descriptive Statistic\n",
    "\n",
    "Question 1."
   ]
  },
  {
   "cell_type": "code",
   "execution_count": 774,
   "id": "dd2a1d2c",
   "metadata": {},
   "outputs": [
    {
     "name": "stdout",
     "output_type": "stream",
     "text": [
      "---Answer for Question 1---\n"
     ]
    },
    {
     "data": {
      "text/html": [
       "<div>\n",
       "<style scoped>\n",
       "    .dataframe tbody tr th:only-of-type {\n",
       "        vertical-align: middle;\n",
       "    }\n",
       "\n",
       "    .dataframe tbody tr th {\n",
       "        vertical-align: top;\n",
       "    }\n",
       "\n",
       "    .dataframe thead th {\n",
       "        text-align: right;\n",
       "    }\n",
       "</style>\n",
       "<table border=\"1\" class=\"dataframe\">\n",
       "  <thead>\n",
       "    <tr style=\"text-align: right;\">\n",
       "      <th></th>\n",
       "      <th>Pregnancies</th>\n",
       "      <th>Glucose</th>\n",
       "      <th>BloodPressure</th>\n",
       "      <th>SkinThickness</th>\n",
       "      <th>Insulin</th>\n",
       "      <th>BMI</th>\n",
       "      <th>DiabetesPedigreeFunction</th>\n",
       "      <th>Age</th>\n",
       "      <th>Outcome</th>\n",
       "    </tr>\n",
       "  </thead>\n",
       "  <tbody>\n",
       "    <tr>\n",
       "      <th>0</th>\n",
       "      <td>6</td>\n",
       "      <td>148</td>\n",
       "      <td>72.0</td>\n",
       "      <td>35</td>\n",
       "      <td>0</td>\n",
       "      <td>33.6</td>\n",
       "      <td>0.627</td>\n",
       "      <td>50</td>\n",
       "      <td>1</td>\n",
       "    </tr>\n",
       "    <tr>\n",
       "      <th>1</th>\n",
       "      <td>1</td>\n",
       "      <td>85</td>\n",
       "      <td>66.0</td>\n",
       "      <td>29</td>\n",
       "      <td>0</td>\n",
       "      <td>26.6</td>\n",
       "      <td>0.351</td>\n",
       "      <td>31</td>\n",
       "      <td>0</td>\n",
       "    </tr>\n",
       "    <tr>\n",
       "      <th>2</th>\n",
       "      <td>8</td>\n",
       "      <td>183</td>\n",
       "      <td>64.0</td>\n",
       "      <td>0</td>\n",
       "      <td>0</td>\n",
       "      <td>23.3</td>\n",
       "      <td>0.672</td>\n",
       "      <td>32</td>\n",
       "      <td>1</td>\n",
       "    </tr>\n",
       "    <tr>\n",
       "      <th>3</th>\n",
       "      <td>1</td>\n",
       "      <td>89</td>\n",
       "      <td>66.0</td>\n",
       "      <td>23</td>\n",
       "      <td>94</td>\n",
       "      <td>28.1</td>\n",
       "      <td>0.167</td>\n",
       "      <td>21</td>\n",
       "      <td>0</td>\n",
       "    </tr>\n",
       "    <tr>\n",
       "      <th>4</th>\n",
       "      <td>0</td>\n",
       "      <td>137</td>\n",
       "      <td>40.0</td>\n",
       "      <td>35</td>\n",
       "      <td>168</td>\n",
       "      <td>43.1</td>\n",
       "      <td>2.288</td>\n",
       "      <td>15</td>\n",
       "      <td>1</td>\n",
       "    </tr>\n",
       "  </tbody>\n",
       "</table>\n",
       "</div>"
      ],
      "text/plain": [
       "   Pregnancies  Glucose  BloodPressure  SkinThickness  Insulin   BMI  \\\n",
       "0            6      148           72.0             35        0  33.6   \n",
       "1            1       85           66.0             29        0  26.6   \n",
       "2            8      183           64.0              0        0  23.3   \n",
       "3            1       89           66.0             23       94  28.1   \n",
       "4            0      137           40.0             35      168  43.1   \n",
       "\n",
       "   DiabetesPedigreeFunction  Age  Outcome  \n",
       "0                     0.627   50        1  \n",
       "1                     0.351   31        0  \n",
       "2                     0.672   32        1  \n",
       "3                     0.167   21        0  \n",
       "4                     2.288   15        1  "
      ]
     },
     "execution_count": 774,
     "metadata": {},
     "output_type": "execute_result"
    }
   ],
   "source": [
    "import pandas as pd\n",
    "\n",
    "df_diabetes=pd.read_csv(\"diabetes.csv\")\n",
    "print(\"---Answer for Question 1---\")\n",
    "df_diabetes.head()"
   ]
  },
  {
   "cell_type": "markdown",
   "id": "88b2a368",
   "metadata": {},
   "source": [
    "Question 2."
   ]
  },
  {
   "cell_type": "code",
   "execution_count": 775,
   "id": "aafe2bcf",
   "metadata": {},
   "outputs": [
    {
     "name": "stdout",
     "output_type": "stream",
     "text": [
      "---Answer for Question 2---\n",
      "Total number of Rows are: 788\n",
      "Total number of Columns are: 9\n"
     ]
    }
   ],
   "source": [
    "print(\"---Answer for Question 2---\")\n",
    "print(\"Total number of Rows are:\",len(df_diabetes))\n",
    "print(\"Total number of Columns are:\",len(df_diabetes.columns))"
   ]
  },
  {
   "cell_type": "markdown",
   "id": "cb594588",
   "metadata": {},
   "source": [
    "Question 3."
   ]
  },
  {
   "cell_type": "code",
   "execution_count": 776,
   "id": "cb721411",
   "metadata": {},
   "outputs": [
    {
     "name": "stdout",
     "output_type": "stream",
     "text": [
      "---Answer for Question 3---\n",
      "The minimum Value for Age 12\n",
      "The maximum Value for Age 81\n",
      "The mean Value for Age  33.21573604060914\n",
      "The standard deviation for Age 11.819874550957666\n"
     ]
    }
   ],
   "source": [
    "print(\"---Answer for Question 3---\")\n",
    "min=df_diabetes.Age.min()\n",
    "print(\"The minimum Value for Age\",min)\n",
    "max=df_diabetes.Age.max()\n",
    "print(\"The maximum Value for Age\", max)\n",
    "mean= df_diabetes.Age.mean()\n",
    "print(\"The mean Value for Age \", mean)\n",
    "std=df_diabetes.Age.std()\n",
    "print(\"The standard deviation for Age\", std)"
   ]
  },
  {
   "cell_type": "markdown",
   "id": "61f5db0f",
   "metadata": {},
   "source": [
    "Question 4."
   ]
  },
  {
   "cell_type": "code",
   "execution_count": 777,
   "id": "24bd40a7",
   "metadata": {},
   "outputs": [
    {
     "name": "stdout",
     "output_type": "stream",
     "text": [
      "---Answer for Question 4---\n",
      "The type of modality for Age column is Unimodal\n",
      "0    22\n",
      "Name: Age, dtype: int64\n"
     ]
    }
   ],
   "source": [
    "print(\"---Answer for Question 4---\")\n",
    "mode=df_diabetes.Age.mode()\n",
    "print(\"The type of modality for Age column is Unimodal\")\n",
    "print(mode)"
   ]
  },
  {
   "cell_type": "markdown",
   "id": "ca8c8abd",
   "metadata": {},
   "source": [
    "Question 5."
   ]
  },
  {
   "cell_type": "code",
   "execution_count": 778,
   "id": "28fb822c",
   "metadata": {},
   "outputs": [
    {
     "name": "stdout",
     "output_type": "stream",
     "text": [
      "---Answer for Question 5---\n",
      "First Quartile Q1: 0.25    24.0\n",
      "Name: Age, dtype: float64\n",
      "Third Quartile Q3: 0.75    41.0\n",
      "Name: Age, dtype: float64\n"
     ]
    }
   ],
   "source": [
    "print(\"---Answer for Question 5---\")\n",
    "first_quartile=df_diabetes.Age.quantile([0.25])\n",
    "print(\"First Quartile Q1:\",first_quartile)\n",
    "\n",
    "second_quartile=df_diabetes.Age.quantile([0.5])\n",
    "\n",
    "third_quartile=df_diabetes.Age.quantile([0.75])\n",
    "print(\"Third Quartile Q3:\",third_quartile)"
   ]
  },
  {
   "cell_type": "markdown",
   "id": "75e0c8e7",
   "metadata": {},
   "source": [
    "Question 6."
   ]
  },
  {
   "cell_type": "code",
   "execution_count": 779,
   "id": "12d7f6ca",
   "metadata": {},
   "outputs": [
    {
     "name": "stdout",
     "output_type": "stream",
     "text": [
      "---Answer for Question 6---\n",
      "The InterQuartile for Age Column is: 17.0\n"
     ]
    }
   ],
   "source": [
    "print(\"---Answer for Question 6---\")\n",
    "InterQuartile=third_quartile[0.75]-first_quartile[0.25]\n",
    "print(\"The InterQuartile for Age Column is:\",InterQuartile)"
   ]
  },
  {
   "cell_type": "markdown",
   "id": "3356a41f",
   "metadata": {},
   "source": [
    "Question 7."
   ]
  },
  {
   "cell_type": "code",
   "execution_count": 780,
   "id": "49839b7d",
   "metadata": {},
   "outputs": [
    {
     "name": "stdout",
     "output_type": "stream",
     "text": [
      "---Answer for Question 7---\n",
      "The Five Number Summary of the Age Column are:\n",
      "12\n",
      "24.0\n",
      "29.0\n",
      "41.0\n",
      "81\n"
     ]
    }
   ],
   "source": [
    "print(\"---Answer for Question 7---\")\n",
    "print(\"The Five Number Summary of the Age Column are:\")\n",
    "print(min)\n",
    "print(first_quartile[0.25])\n",
    "print(second_quartile[0.5])\n",
    "print(third_quartile[0.75])\n",
    "print(max)"
   ]
  },
  {
   "cell_type": "markdown",
   "id": "26bf1356",
   "metadata": {},
   "source": [
    "II) Data Visualization\n",
    "\n",
    "Question 1.\n"
   ]
  },
  {
   "cell_type": "code",
   "execution_count": 781,
   "id": "cd8008d9",
   "metadata": {},
   "outputs": [
    {
     "name": "stdout",
     "output_type": "stream",
     "text": [
      "---Answer for Question 1---\n"
     ]
    },
    {
     "data": {
      "image/png": "[encoded data removed]",
      "text/plain": [
       "<Figure size 640x480 with 1 Axes>"
      ]
     },
     "metadata": {},
     "output_type": "display_data"
    }
   ],
   "source": [
    "import matplotlib.pyplot as plt\n",
    "import seaborn as sns\n",
    "print(\"---Answer for Question 1---\")\n",
    "sns.boxplot(df_diabetes.Age)\n",
    "plt.title(\"Boxplot of Age\")\n",
    "plt.show()"
   ]
  },
  {
   "cell_type": "markdown",
   "id": "ecf09366",
   "metadata": {},
   "source": [
    "Question 2."
   ]
  },
  {
   "cell_type": "code",
   "execution_count": 782,
   "id": "9b82e35a",
   "metadata": {},
   "outputs": [
    {
     "name": "stdout",
     "output_type": "stream",
     "text": [
      "---Answer for Question 2---\n"
     ]
    },
    {
     "data": {
      "image/png": "[encoded data removed]",
      "text/plain": [
       "<Figure size 640x480 with 1 Axes>"
      ]
     },
     "metadata": {},
     "output_type": "display_data"
    }
   ],
   "source": [
    "sns.boxplot(x='Outcome',y='Age', data=df_diabetes)\n",
    "plt.xlabel(\"Diabetic\")\n",
    "plt.ylabel(\"Patient's Age\")\n",
    "plt.xticks(ticks=[0,1],labels=['No','Yes'])\n",
    "print(\"---Answer for Question 2---\")\n",
    "plt.show()"
   ]
  },
  {
   "cell_type": "markdown",
   "id": "24fcd6ab",
   "metadata": {},
   "source": [
    "Question 3."
   ]
  },
  {
   "cell_type": "markdown",
   "id": "36c29cde",
   "metadata": {},
   "source": [
    "Answer: The above figure represents the data as a form of box plot graph , Box plot is used to analyse a realtionship between two values.\n",
    "Here, we are analysing relationship between the patient's age and being diabetic.For Non Diabetic Patient, median lies below the actual value where as for diabetic it is very close to median.There are many outliers in Non diabetic in comparison with being diabetic.We can also conclude that being diabetic is directly proportional to Patient's Age."
   ]
  },
  {
   "cell_type": "markdown",
   "id": "1799ef7c",
   "metadata": {},
   "source": [
    "Question 4."
   ]
  },
  {
   "cell_type": "code",
   "execution_count": 783,
   "id": "13585e55",
   "metadata": {},
   "outputs": [
    {
     "name": "stdout",
     "output_type": "stream",
     "text": [
      "---Answer for Question 4---\n"
     ]
    },
    {
     "data": {
      "image/png": "[encoded data removed]",
      "text/plain": [
       "<Figure size 640x480 with 1 Axes>"
      ]
     },
     "metadata": {},
     "output_type": "display_data"
    }
   ],
   "source": [
    "sns.scatterplot(x='BloodPressure',y='BMI', data=df_diabetes)\n",
    "plt.xlabel(\"Patient's Blood Pressure\")\n",
    "plt.ylabel(\"BMI\")\n",
    "\n",
    "print(\"---Answer for Question 4---\")\n",
    "plt.show()"
   ]
  },
  {
   "cell_type": "markdown",
   "id": "99713d92",
   "metadata": {},
   "source": [
    "Question 5."
   ]
  },
  {
   "cell_type": "code",
   "execution_count": 784,
   "id": "0bcf829d",
   "metadata": {},
   "outputs": [
    {
     "name": "stdout",
     "output_type": "stream",
     "text": [
      "---Answer for Question 5---\n"
     ]
    },
    {
     "data": {
      "image/png": "[encoded data removed]",
      "text/plain": [
       "<Figure size 640x480 with 1 Axes>"
      ]
     },
     "metadata": {},
     "output_type": "display_data"
    }
   ],
   "source": [
    "print(\"---Answer for Question 5---\")\n",
    "diabetic= df_diabetes.Outcome.replace({0:\"No\", 1:\"Yes\"})\n",
    "sns.scatterplot(x=df_diabetes.BloodPressure, y=df_diabetes.BMI, hue=diabetic)\n",
    "plt.legend(title='Diabetic')\n",
    "plt.title('Bloodpressure Vs BMI ')\n",
    "plt.show()"
   ]
  },
  {
   "cell_type": "markdown",
   "id": "073e87f6",
   "metadata": {},
   "source": [
    "Question 6."
   ]
  },
  {
   "cell_type": "markdown",
   "id": "e7ede6eb",
   "metadata": {},
   "source": [
    "The above figure illustrates a scatterplot which helps in giving relationship between two values and this shall assist in getting scattered data which will further be useful in getting clustered data.Here, we are comparing Blood Pressure with BMI. During this comparison there are two clustered formed Orange(Diabetic) and Blue (Non diabetic). It seems that being Non diabetic is more dominant over Diabetic.The scatter plot is majorly concentrated towards the center."
   ]
  },
  {
   "cell_type": "markdown",
   "id": "5a68e785",
   "metadata": {},
   "source": [
    "III) Data Filtering"
   ]
  },
  {
   "cell_type": "markdown",
   "id": "2ccc411e",
   "metadata": {},
   "source": [
    "Question 1."
   ]
  },
  {
   "cell_type": "code",
   "execution_count": 785,
   "id": "cf1cca5c",
   "metadata": {},
   "outputs": [
    {
     "name": "stdout",
     "output_type": "stream",
     "text": [
      "---Answer for Question 1---\n",
      "The total patient with Insuline greater than 400 are: 20\n",
      "Diabetic Patient: 12\n",
      "Non Diabetic Patient: 8\n"
     ]
    }
   ],
   "source": [
    "print(\"---Answer for Question 1---\")\n",
    "Insulin_patient = df_diabetes[df_diabetes['Insulin'] > 400]\n",
    "print(\"The total patient with Insuline greater than 400 are:\",len(Insulin_patient))\n",
    "Insulin_patient\n",
    " \n",
    "Insulin_Diabetic=Insulin_patient[Insulin_patient['Outcome'] == 1]\n",
    "print(\"Diabetic Patient:\",len(Insulin_Diabetic))\n",
    "\n",
    "Insulin_Non_Diabetic=Insulin_patient[Insulin_patient['Outcome'] == 0]\n",
    "print(\"Non Diabetic Patient:\",len(Insulin_Non_Diabetic))"
   ]
  },
  {
   "cell_type": "markdown",
   "id": "7b16a798",
   "metadata": {},
   "source": [
    "Question 2."
   ]
  },
  {
   "cell_type": "code",
   "execution_count": 786,
   "id": "0adb7fc0",
   "metadata": {},
   "outputs": [
    {
     "name": "stdout",
     "output_type": "stream",
     "text": [
      "--- Answer for Question 2---\n",
      "The total patient with Insuline greater than 400 and Glucose greater than 175 are: 6\n",
      "Diabetic Patient: 5\n",
      "Diabetic Patient: 1\n"
     ]
    }
   ],
   "source": [
    "print(\"--- Answer for Question 2---\")\n",
    "Insulin_Glucose = df_diabetes[(df_diabetes['Insulin'] > 400) & (df_diabetes['Glucose'] > 175)]\n",
    "print(\"The total patient with Insuline greater than 400 and Glucose greater than 175 are:\",len(Insulin_Glucose))\n",
    "\n",
    "Insulin_Glucose_Diabetic=Insulin_Glucose[Insulin_Glucose['Outcome'] == 1]\n",
    "print(\"Diabetic Patient:\",len(Insulin_Glucose_Diabetic))\n",
    "\n",
    "Insulin_Glucose_Non_Diabetic=Insulin_Glucose[Insulin_Glucose['Outcome'] == 0]\n",
    "print(\"Diabetic Patient:\",len(Insulin_Glucose_Non_Diabetic))\n"
   ]
  },
  {
   "cell_type": "markdown",
   "id": "e42d4f02",
   "metadata": {},
   "source": [
    "Question 3"
   ]
  },
  {
   "cell_type": "code",
   "execution_count": 787,
   "id": "6b86bee8",
   "metadata": {},
   "outputs": [
    {
     "name": "stdout",
     "output_type": "stream",
     "text": [
      "--- Answer 3 ---\n",
      "Average Glucose level for pregnancies greater than 5 and Older than 45 is: 135.36986301369862\n"
     ]
    }
   ],
   "source": [
    "print(\"--- Answer 3 ---\")\n",
    "Average_Glucose= df_diabetes[(df_diabetes['Pregnancies'] > 5) & (df_diabetes['Age'] > 45)]\n",
    "Average_Glucose=Average_Glucose.Glucose.mean()\n",
    "print(\"Average Glucose level for pregnancies greater than 5 and Older than 45 is:\",Average_Glucose)"
   ]
  },
  {
   "cell_type": "markdown",
   "id": "a91eac75",
   "metadata": {},
   "source": [
    "Question 4"
   ]
  },
  {
   "cell_type": "code",
   "execution_count": 788,
   "id": "80ac42fc",
   "metadata": {},
   "outputs": [
    {
     "name": "stdout",
     "output_type": "stream",
     "text": [
      "--- Answer 4 ---\n",
      "Count of Distinct values for Preganancies are: 17\n"
     ]
    }
   ],
   "source": [
    "print(\"--- Answer 4 ---\")\n",
    "Distinct= df_diabetes.Pregnancies.unique()\n",
    "print(\"Count of Distinct values for Preganancies are:\",len(Distinct))"
   ]
  },
  {
   "cell_type": "markdown",
   "id": "59ad34c7",
   "metadata": {},
   "source": [
    "Question 5"
   ]
  },
  {
   "cell_type": "code",
   "execution_count": 789,
   "id": "e25513a0",
   "metadata": {},
   "outputs": [
    {
     "name": "stdout",
     "output_type": "stream",
     "text": [
      "--- Answer 5 --- \n"
     ]
    },
    {
     "data": {
      "text/plain": [
       "Pregnancies  Outcome\n",
       "0            0           66.071429\n",
       "             1           33.928571\n",
       "1            0           77.304965\n",
       "             1           22.695035\n",
       "2            0           82.407407\n",
       "             1           17.592593\n",
       "3            0           64.473684\n",
       "             1           35.526316\n",
       "4            0           66.666667\n",
       "             1           33.333333\n",
       "5            0           63.793103\n",
       "             1           36.206897\n",
       "6            0           68.000000\n",
       "             1           32.000000\n",
       "7            1           56.521739\n",
       "             0           43.478261\n",
       "8            1           55.000000\n",
       "             0           45.000000\n",
       "9            1           65.517241\n",
       "             0           34.482759\n",
       "10           0           58.333333\n",
       "             1           41.666667\n",
       "11           1           63.636364\n",
       "             0           36.363636\n",
       "12           0           55.555556\n",
       "             1           44.444444\n",
       "13           1           54.545455\n",
       "             0           45.454545\n",
       "14           1          100.000000\n",
       "15           1          100.000000\n",
       "17           1          100.000000\n",
       "Name: Outcome, dtype: float64"
      ]
     },
     "execution_count": 789,
     "metadata": {},
     "output_type": "execute_result"
    }
   ],
   "source": [
    "print(\"--- Answer 5 --- \")\n",
    "df_diabetes.groupby('Pregnancies')['Outcome'].value_counts(normalize=\"True\").mul(100)"
   ]
  },
  {
   "cell_type": "markdown",
   "id": "6d27db58",
   "metadata": {},
   "source": [
    "Question 2) Data Cleaning\n",
    "\n",
    "I) Duplicate Removal\n",
    "\n",
    "Question 1."
   ]
  },
  {
   "cell_type": "code",
   "execution_count": 790,
   "id": "67de3b29",
   "metadata": {},
   "outputs": [
    {
     "name": "stdout",
     "output_type": "stream",
     "text": [
      "--- Answer 1---\n",
      "0      False\n",
      "1      False\n",
      "2      False\n",
      "3      False\n",
      "4      False\n",
      "       ...  \n",
      "783     True\n",
      "784     True\n",
      "785     True\n",
      "786     True\n",
      "787     True\n",
      "Length: 788, dtype: bool\n"
     ]
    }
   ],
   "source": [
    "print(\"--- Answer 1---\")\n",
    "Duplicate_Records = df_diabetes.duplicated()\n",
    "print(Duplicate_Records)"
   ]
  },
  {
   "cell_type": "markdown",
   "id": "c97614e4",
   "metadata": {},
   "source": [
    "Question 2."
   ]
  },
  {
   "cell_type": "code",
   "execution_count": 791,
   "id": "38bd3886",
   "metadata": {},
   "outputs": [
    {
     "name": "stdout",
     "output_type": "stream",
     "text": [
      "---Answer 2---\n",
      "Before Removal of duplicate the total count was: 788\n",
      "After Removal of duplicate the total count is: 768\n"
     ]
    }
   ],
   "source": [
    "print(\"---Answer 2---\")\n",
    "print(\"Before Removal of duplicate the total count was:\",len(df_diabetes))\n",
    "remove_duplicates=df_diabetes.drop_duplicates()\n",
    "print(\"After Removal of duplicate the total count is:\",len(remove_duplicates))"
   ]
  },
  {
   "cell_type": "markdown",
   "id": "fac7994a",
   "metadata": {},
   "source": [
    "Question 3."
   ]
  },
  {
   "cell_type": "code",
   "execution_count": 792,
   "id": "5cadb3ed",
   "metadata": {},
   "outputs": [
    {
     "name": "stdout",
     "output_type": "stream",
     "text": [
      "--- Answer 3 ---\n",
      "The dimension after removal of duplicate values is (768, 9)\n"
     ]
    }
   ],
   "source": [
    "print(\"--- Answer 3 ---\")\n",
    "print(\"The dimension after removal of duplicate values is\",remove_duplicates.shape)"
   ]
  },
  {
   "cell_type": "markdown",
   "id": "7b0bd10c",
   "metadata": {},
   "source": [
    "Question 4."
   ]
  },
  {
   "cell_type": "code",
   "execution_count": 793,
   "id": "834473f6",
   "metadata": {},
   "outputs": [
    {
     "name": "stdout",
     "output_type": "stream",
     "text": [
      "---Answer 4---\n",
      "Total count of duplicate data: 20\n"
     ]
    }
   ],
   "source": [
    "print(\"---Answer 4---\")\n",
    "print(\"Total count of duplicate data:\",len(df_diabetes)-len(remove_duplicates))"
   ]
  },
  {
   "cell_type": "markdown",
   "id": "c018bcea",
   "metadata": {},
   "source": [
    "II) Missing Values\n",
    "\n",
    "Question1."
   ]
  },
  {
   "cell_type": "code",
   "execution_count": 794,
   "id": "b596d894",
   "metadata": {},
   "outputs": [
    {
     "name": "stdout",
     "output_type": "stream",
     "text": [
      "---Answer 1---\n",
      "Total missing values for Blood pressure column are: 23\n"
     ]
    }
   ],
   "source": [
    "print(\"---Answer 1---\")\n",
    "BP=remove_duplicates.BloodPressure.isna().sum()\n",
    "print(\"Total missing values for Blood pressure column are:\", BP)"
   ]
  },
  {
   "cell_type": "markdown",
   "id": "e762d9b8",
   "metadata": {},
   "source": [
    "Question 2."
   ]
  },
  {
   "cell_type": "code",
   "execution_count": 795,
   "id": "ac698a6d",
   "metadata": {},
   "outputs": [
    {
     "name": "stdout",
     "output_type": "stream",
     "text": [
      "---Answer 2---\n"
     ]
    },
    {
     "data": {
      "text/html": [
       "<div>\n",
       "<style scoped>\n",
       "    .dataframe tbody tr th:only-of-type {\n",
       "        vertical-align: middle;\n",
       "    }\n",
       "\n",
       "    .dataframe tbody tr th {\n",
       "        vertical-align: top;\n",
       "    }\n",
       "\n",
       "    .dataframe thead th {\n",
       "        text-align: right;\n",
       "    }\n",
       "</style>\n",
       "<table border=\"1\" class=\"dataframe\">\n",
       "  <thead>\n",
       "    <tr style=\"text-align: right;\">\n",
       "      <th></th>\n",
       "      <th>Pregnancies</th>\n",
       "      <th>Glucose</th>\n",
       "      <th>BloodPressure</th>\n",
       "      <th>SkinThickness</th>\n",
       "      <th>Insulin</th>\n",
       "      <th>BMI</th>\n",
       "      <th>DiabetesPedigreeFunction</th>\n",
       "      <th>Age</th>\n",
       "      <th>Outcome</th>\n",
       "    </tr>\n",
       "  </thead>\n",
       "  <tbody>\n",
       "    <tr>\n",
       "      <th>0</th>\n",
       "      <td>6</td>\n",
       "      <td>148</td>\n",
       "      <td>72.0</td>\n",
       "      <td>35</td>\n",
       "      <td>0</td>\n",
       "      <td>33.6</td>\n",
       "      <td>0.627</td>\n",
       "      <td>50</td>\n",
       "      <td>1</td>\n",
       "    </tr>\n",
       "    <tr>\n",
       "      <th>1</th>\n",
       "      <td>1</td>\n",
       "      <td>85</td>\n",
       "      <td>66.0</td>\n",
       "      <td>29</td>\n",
       "      <td>0</td>\n",
       "      <td>26.6</td>\n",
       "      <td>0.351</td>\n",
       "      <td>31</td>\n",
       "      <td>0</td>\n",
       "    </tr>\n",
       "    <tr>\n",
       "      <th>2</th>\n",
       "      <td>8</td>\n",
       "      <td>183</td>\n",
       "      <td>64.0</td>\n",
       "      <td>0</td>\n",
       "      <td>0</td>\n",
       "      <td>23.3</td>\n",
       "      <td>0.672</td>\n",
       "      <td>32</td>\n",
       "      <td>1</td>\n",
       "    </tr>\n",
       "    <tr>\n",
       "      <th>3</th>\n",
       "      <td>1</td>\n",
       "      <td>89</td>\n",
       "      <td>66.0</td>\n",
       "      <td>23</td>\n",
       "      <td>94</td>\n",
       "      <td>28.1</td>\n",
       "      <td>0.167</td>\n",
       "      <td>21</td>\n",
       "      <td>0</td>\n",
       "    </tr>\n",
       "    <tr>\n",
       "      <th>4</th>\n",
       "      <td>0</td>\n",
       "      <td>137</td>\n",
       "      <td>40.0</td>\n",
       "      <td>35</td>\n",
       "      <td>168</td>\n",
       "      <td>43.1</td>\n",
       "      <td>2.288</td>\n",
       "      <td>15</td>\n",
       "      <td>1</td>\n",
       "    </tr>\n",
       "    <tr>\n",
       "      <th>...</th>\n",
       "      <td>...</td>\n",
       "      <td>...</td>\n",
       "      <td>...</td>\n",
       "      <td>...</td>\n",
       "      <td>...</td>\n",
       "      <td>...</td>\n",
       "      <td>...</td>\n",
       "      <td>...</td>\n",
       "      <td>...</td>\n",
       "    </tr>\n",
       "    <tr>\n",
       "      <th>763</th>\n",
       "      <td>10</td>\n",
       "      <td>101</td>\n",
       "      <td>76.0</td>\n",
       "      <td>48</td>\n",
       "      <td>180</td>\n",
       "      <td>32.9</td>\n",
       "      <td>0.171</td>\n",
       "      <td>63</td>\n",
       "      <td>0</td>\n",
       "    </tr>\n",
       "    <tr>\n",
       "      <th>764</th>\n",
       "      <td>2</td>\n",
       "      <td>122</td>\n",
       "      <td>70.0</td>\n",
       "      <td>27</td>\n",
       "      <td>0</td>\n",
       "      <td>36.8</td>\n",
       "      <td>0.340</td>\n",
       "      <td>27</td>\n",
       "      <td>0</td>\n",
       "    </tr>\n",
       "    <tr>\n",
       "      <th>765</th>\n",
       "      <td>5</td>\n",
       "      <td>121</td>\n",
       "      <td>72.0</td>\n",
       "      <td>23</td>\n",
       "      <td>112</td>\n",
       "      <td>26.2</td>\n",
       "      <td>0.245</td>\n",
       "      <td>30</td>\n",
       "      <td>0</td>\n",
       "    </tr>\n",
       "    <tr>\n",
       "      <th>766</th>\n",
       "      <td>1</td>\n",
       "      <td>126</td>\n",
       "      <td>60.0</td>\n",
       "      <td>0</td>\n",
       "      <td>0</td>\n",
       "      <td>30.1</td>\n",
       "      <td>0.349</td>\n",
       "      <td>47</td>\n",
       "      <td>1</td>\n",
       "    </tr>\n",
       "    <tr>\n",
       "      <th>767</th>\n",
       "      <td>1</td>\n",
       "      <td>93</td>\n",
       "      <td>70.0</td>\n",
       "      <td>31</td>\n",
       "      <td>0</td>\n",
       "      <td>30.4</td>\n",
       "      <td>0.315</td>\n",
       "      <td>23</td>\n",
       "      <td>0</td>\n",
       "    </tr>\n",
       "  </tbody>\n",
       "</table>\n",
       "<p>745 rows × 9 columns</p>\n",
       "</div>"
      ],
      "text/plain": [
       "     Pregnancies  Glucose  BloodPressure  SkinThickness  Insulin   BMI  \\\n",
       "0              6      148           72.0             35        0  33.6   \n",
       "1              1       85           66.0             29        0  26.6   \n",
       "2              8      183           64.0              0        0  23.3   \n",
       "3              1       89           66.0             23       94  28.1   \n",
       "4              0      137           40.0             35      168  43.1   \n",
       "..           ...      ...            ...            ...      ...   ...   \n",
       "763           10      101           76.0             48      180  32.9   \n",
       "764            2      122           70.0             27        0  36.8   \n",
       "765            5      121           72.0             23      112  26.2   \n",
       "766            1      126           60.0              0        0  30.1   \n",
       "767            1       93           70.0             31        0  30.4   \n",
       "\n",
       "     DiabetesPedigreeFunction  Age  Outcome  \n",
       "0                       0.627   50        1  \n",
       "1                       0.351   31        0  \n",
       "2                       0.672   32        1  \n",
       "3                       0.167   21        0  \n",
       "4                       2.288   15        1  \n",
       "..                        ...  ...      ...  \n",
       "763                     0.171   63        0  \n",
       "764                     0.340   27        0  \n",
       "765                     0.245   30        0  \n",
       "766                     0.349   47        1  \n",
       "767                     0.315   23        0  \n",
       "\n",
       "[745 rows x 9 columns]"
      ]
     },
     "execution_count": 795,
     "metadata": {},
     "output_type": "execute_result"
    }
   ],
   "source": [
    "print(\"---Answer 2---\")\n",
    "BP=remove_duplicates.dropna(subset=['BloodPressure'])\n",
    "BP"
   ]
  },
  {
   "cell_type": "markdown",
   "id": "1c2c10eb",
   "metadata": {},
   "source": [
    "Question 3."
   ]
  },
  {
   "cell_type": "code",
   "execution_count": 796,
   "id": "1dc5f578",
   "metadata": {},
   "outputs": [
    {
     "name": "stdout",
     "output_type": "stream",
     "text": [
      "--- Answer 3 ---\n"
     ]
    },
    {
     "data": {
      "text/html": [
       "<div>\n",
       "<style scoped>\n",
       "    .dataframe tbody tr th:only-of-type {\n",
       "        vertical-align: middle;\n",
       "    }\n",
       "\n",
       "    .dataframe tbody tr th {\n",
       "        vertical-align: top;\n",
       "    }\n",
       "\n",
       "    .dataframe thead th {\n",
       "        text-align: right;\n",
       "    }\n",
       "</style>\n",
       "<table border=\"1\" class=\"dataframe\">\n",
       "  <thead>\n",
       "    <tr style=\"text-align: right;\">\n",
       "      <th></th>\n",
       "      <th>Pregnancies</th>\n",
       "      <th>Glucose</th>\n",
       "      <th>BloodPressure</th>\n",
       "      <th>SkinThickness</th>\n",
       "      <th>Insulin</th>\n",
       "      <th>BMI</th>\n",
       "      <th>DiabetesPedigreeFunction</th>\n",
       "      <th>Age</th>\n",
       "    </tr>\n",
       "  </thead>\n",
       "  <tbody>\n",
       "    <tr>\n",
       "      <th>0</th>\n",
       "      <td>6</td>\n",
       "      <td>148</td>\n",
       "      <td>72.0</td>\n",
       "      <td>35</td>\n",
       "      <td>0</td>\n",
       "      <td>33.6</td>\n",
       "      <td>0.627</td>\n",
       "      <td>50</td>\n",
       "    </tr>\n",
       "    <tr>\n",
       "      <th>1</th>\n",
       "      <td>1</td>\n",
       "      <td>85</td>\n",
       "      <td>66.0</td>\n",
       "      <td>29</td>\n",
       "      <td>0</td>\n",
       "      <td>26.6</td>\n",
       "      <td>0.351</td>\n",
       "      <td>31</td>\n",
       "    </tr>\n",
       "    <tr>\n",
       "      <th>2</th>\n",
       "      <td>8</td>\n",
       "      <td>183</td>\n",
       "      <td>64.0</td>\n",
       "      <td>0</td>\n",
       "      <td>0</td>\n",
       "      <td>23.3</td>\n",
       "      <td>0.672</td>\n",
       "      <td>32</td>\n",
       "    </tr>\n",
       "    <tr>\n",
       "      <th>3</th>\n",
       "      <td>1</td>\n",
       "      <td>89</td>\n",
       "      <td>66.0</td>\n",
       "      <td>23</td>\n",
       "      <td>94</td>\n",
       "      <td>28.1</td>\n",
       "      <td>0.167</td>\n",
       "      <td>21</td>\n",
       "    </tr>\n",
       "    <tr>\n",
       "      <th>4</th>\n",
       "      <td>0</td>\n",
       "      <td>137</td>\n",
       "      <td>40.0</td>\n",
       "      <td>35</td>\n",
       "      <td>168</td>\n",
       "      <td>43.1</td>\n",
       "      <td>2.288</td>\n",
       "      <td>15</td>\n",
       "    </tr>\n",
       "    <tr>\n",
       "      <th>...</th>\n",
       "      <td>...</td>\n",
       "      <td>...</td>\n",
       "      <td>...</td>\n",
       "      <td>...</td>\n",
       "      <td>...</td>\n",
       "      <td>...</td>\n",
       "      <td>...</td>\n",
       "      <td>...</td>\n",
       "    </tr>\n",
       "    <tr>\n",
       "      <th>763</th>\n",
       "      <td>10</td>\n",
       "      <td>101</td>\n",
       "      <td>76.0</td>\n",
       "      <td>48</td>\n",
       "      <td>180</td>\n",
       "      <td>32.9</td>\n",
       "      <td>0.171</td>\n",
       "      <td>63</td>\n",
       "    </tr>\n",
       "    <tr>\n",
       "      <th>764</th>\n",
       "      <td>2</td>\n",
       "      <td>122</td>\n",
       "      <td>70.0</td>\n",
       "      <td>27</td>\n",
       "      <td>0</td>\n",
       "      <td>36.8</td>\n",
       "      <td>0.340</td>\n",
       "      <td>27</td>\n",
       "    </tr>\n",
       "    <tr>\n",
       "      <th>765</th>\n",
       "      <td>5</td>\n",
       "      <td>121</td>\n",
       "      <td>72.0</td>\n",
       "      <td>23</td>\n",
       "      <td>112</td>\n",
       "      <td>26.2</td>\n",
       "      <td>0.245</td>\n",
       "      <td>30</td>\n",
       "    </tr>\n",
       "    <tr>\n",
       "      <th>766</th>\n",
       "      <td>1</td>\n",
       "      <td>126</td>\n",
       "      <td>60.0</td>\n",
       "      <td>0</td>\n",
       "      <td>0</td>\n",
       "      <td>30.1</td>\n",
       "      <td>0.349</td>\n",
       "      <td>47</td>\n",
       "    </tr>\n",
       "    <tr>\n",
       "      <th>767</th>\n",
       "      <td>1</td>\n",
       "      <td>93</td>\n",
       "      <td>70.0</td>\n",
       "      <td>31</td>\n",
       "      <td>0</td>\n",
       "      <td>30.4</td>\n",
       "      <td>0.315</td>\n",
       "      <td>23</td>\n",
       "    </tr>\n",
       "  </tbody>\n",
       "</table>\n",
       "<p>745 rows × 8 columns</p>\n",
       "</div>"
      ],
      "text/plain": [
       "     Pregnancies  Glucose  BloodPressure  SkinThickness  Insulin   BMI  \\\n",
       "0              6      148           72.0             35        0  33.6   \n",
       "1              1       85           66.0             29        0  26.6   \n",
       "2              8      183           64.0              0        0  23.3   \n",
       "3              1       89           66.0             23       94  28.1   \n",
       "4              0      137           40.0             35      168  43.1   \n",
       "..           ...      ...            ...            ...      ...   ...   \n",
       "763           10      101           76.0             48      180  32.9   \n",
       "764            2      122           70.0             27        0  36.8   \n",
       "765            5      121           72.0             23      112  26.2   \n",
       "766            1      126           60.0              0        0  30.1   \n",
       "767            1       93           70.0             31        0  30.4   \n",
       "\n",
       "     DiabetesPedigreeFunction  Age  \n",
       "0                       0.627   50  \n",
       "1                       0.351   31  \n",
       "2                       0.672   32  \n",
       "3                       0.167   21  \n",
       "4                       2.288   15  \n",
       "..                        ...  ...  \n",
       "763                     0.171   63  \n",
       "764                     0.340   27  \n",
       "765                     0.245   30  \n",
       "766                     0.349   47  \n",
       "767                     0.315   23  \n",
       "\n",
       "[745 rows x 8 columns]"
      ]
     },
     "execution_count": 796,
     "metadata": {},
     "output_type": "execute_result"
    }
   ],
   "source": [
    "print(\"--- Answer 3 ---\")\n",
    "copy_df =BP[['Pregnancies', 'Glucose','BloodPressure', 'SkinThickness', 'Insulin', 'BMI', 'DiabetesPedigreeFunction', 'Age']].copy()\n",
    "copy_df"
   ]
  },
  {
   "cell_type": "markdown",
   "id": "47a6562b",
   "metadata": {},
   "source": [
    "Question 4."
   ]
  },
  {
   "cell_type": "code",
   "execution_count": 797,
   "id": "b78a91e4",
   "metadata": {},
   "outputs": [
    {
     "name": "stdout",
     "output_type": "stream",
     "text": [
      "--- Answer 4 ---\n",
      "After splitting of data into 90% training data\n"
     ]
    },
    {
     "data": {
      "text/html": [
       "<div>\n",
       "<style scoped>\n",
       "    .dataframe tbody tr th:only-of-type {\n",
       "        vertical-align: middle;\n",
       "    }\n",
       "\n",
       "    .dataframe tbody tr th {\n",
       "        vertical-align: top;\n",
       "    }\n",
       "\n",
       "    .dataframe thead th {\n",
       "        text-align: right;\n",
       "    }\n",
       "</style>\n",
       "<table border=\"1\" class=\"dataframe\">\n",
       "  <thead>\n",
       "    <tr style=\"text-align: right;\">\n",
       "      <th></th>\n",
       "      <th>Pregnancies</th>\n",
       "      <th>Glucose</th>\n",
       "      <th>BloodPressure</th>\n",
       "      <th>SkinThickness</th>\n",
       "      <th>Insulin</th>\n",
       "      <th>BMI</th>\n",
       "      <th>DiabetesPedigreeFunction</th>\n",
       "      <th>Age</th>\n",
       "    </tr>\n",
       "  </thead>\n",
       "  <tbody>\n",
       "    <tr>\n",
       "      <th>675</th>\n",
       "      <td>6</td>\n",
       "      <td>195</td>\n",
       "      <td>70.0</td>\n",
       "      <td>0</td>\n",
       "      <td>0</td>\n",
       "      <td>30.9</td>\n",
       "      <td>0.328</td>\n",
       "      <td>31</td>\n",
       "    </tr>\n",
       "    <tr>\n",
       "      <th>695</th>\n",
       "      <td>7</td>\n",
       "      <td>142</td>\n",
       "      <td>90.0</td>\n",
       "      <td>24</td>\n",
       "      <td>480</td>\n",
       "      <td>30.4</td>\n",
       "      <td>0.128</td>\n",
       "      <td>43</td>\n",
       "    </tr>\n",
       "    <tr>\n",
       "      <th>726</th>\n",
       "      <td>1</td>\n",
       "      <td>116</td>\n",
       "      <td>78.0</td>\n",
       "      <td>29</td>\n",
       "      <td>180</td>\n",
       "      <td>36.1</td>\n",
       "      <td>0.496</td>\n",
       "      <td>25</td>\n",
       "    </tr>\n",
       "    <tr>\n",
       "      <th>475</th>\n",
       "      <td>0</td>\n",
       "      <td>137</td>\n",
       "      <td>84.0</td>\n",
       "      <td>27</td>\n",
       "      <td>0</td>\n",
       "      <td>27.3</td>\n",
       "      <td>0.231</td>\n",
       "      <td>59</td>\n",
       "    </tr>\n",
       "    <tr>\n",
       "      <th>363</th>\n",
       "      <td>4</td>\n",
       "      <td>146</td>\n",
       "      <td>78.0</td>\n",
       "      <td>0</td>\n",
       "      <td>0</td>\n",
       "      <td>38.5</td>\n",
       "      <td>0.520</td>\n",
       "      <td>67</td>\n",
       "    </tr>\n",
       "    <tr>\n",
       "      <th>...</th>\n",
       "      <td>...</td>\n",
       "      <td>...</td>\n",
       "      <td>...</td>\n",
       "      <td>...</td>\n",
       "      <td>...</td>\n",
       "      <td>...</td>\n",
       "      <td>...</td>\n",
       "      <td>...</td>\n",
       "    </tr>\n",
       "    <tr>\n",
       "      <th>450</th>\n",
       "      <td>1</td>\n",
       "      <td>82</td>\n",
       "      <td>64.0</td>\n",
       "      <td>13</td>\n",
       "      <td>95</td>\n",
       "      <td>21.2</td>\n",
       "      <td>0.415</td>\n",
       "      <td>23</td>\n",
       "    </tr>\n",
       "    <tr>\n",
       "      <th>155</th>\n",
       "      <td>7</td>\n",
       "      <td>152</td>\n",
       "      <td>88.0</td>\n",
       "      <td>44</td>\n",
       "      <td>0</td>\n",
       "      <td>50.0</td>\n",
       "      <td>0.337</td>\n",
       "      <td>36</td>\n",
       "    </tr>\n",
       "    <tr>\n",
       "      <th>150</th>\n",
       "      <td>1</td>\n",
       "      <td>136</td>\n",
       "      <td>74.0</td>\n",
       "      <td>50</td>\n",
       "      <td>204</td>\n",
       "      <td>37.4</td>\n",
       "      <td>0.399</td>\n",
       "      <td>24</td>\n",
       "    </tr>\n",
       "    <tr>\n",
       "      <th>523</th>\n",
       "      <td>9</td>\n",
       "      <td>130</td>\n",
       "      <td>70.0</td>\n",
       "      <td>0</td>\n",
       "      <td>0</td>\n",
       "      <td>34.2</td>\n",
       "      <td>0.652</td>\n",
       "      <td>45</td>\n",
       "    </tr>\n",
       "    <tr>\n",
       "      <th>441</th>\n",
       "      <td>2</td>\n",
       "      <td>83</td>\n",
       "      <td>66.0</td>\n",
       "      <td>23</td>\n",
       "      <td>50</td>\n",
       "      <td>32.2</td>\n",
       "      <td>0.497</td>\n",
       "      <td>22</td>\n",
       "    </tr>\n",
       "  </tbody>\n",
       "</table>\n",
       "<p>670 rows × 8 columns</p>\n",
       "</div>"
      ],
      "text/plain": [
       "     Pregnancies  Glucose  BloodPressure  SkinThickness  Insulin   BMI  \\\n",
       "675            6      195           70.0              0        0  30.9   \n",
       "695            7      142           90.0             24      480  30.4   \n",
       "726            1      116           78.0             29      180  36.1   \n",
       "475            0      137           84.0             27        0  27.3   \n",
       "363            4      146           78.0              0        0  38.5   \n",
       "..           ...      ...            ...            ...      ...   ...   \n",
       "450            1       82           64.0             13       95  21.2   \n",
       "155            7      152           88.0             44        0  50.0   \n",
       "150            1      136           74.0             50      204  37.4   \n",
       "523            9      130           70.0              0        0  34.2   \n",
       "441            2       83           66.0             23       50  32.2   \n",
       "\n",
       "     DiabetesPedigreeFunction  Age  \n",
       "675                     0.328   31  \n",
       "695                     0.128   43  \n",
       "726                     0.496   25  \n",
       "475                     0.231   59  \n",
       "363                     0.520   67  \n",
       "..                        ...  ...  \n",
       "450                     0.415   23  \n",
       "155                     0.337   36  \n",
       "150                     0.399   24  \n",
       "523                     0.652   45  \n",
       "441                     0.497   22  \n",
       "\n",
       "[670 rows x 8 columns]"
      ]
     },
     "metadata": {},
     "output_type": "display_data"
    },
    {
     "name": "stdout",
     "output_type": "stream",
     "text": [
      "After splitting of data into 10% testing data\n"
     ]
    },
    {
     "data": {
      "text/html": [
       "<div>\n",
       "<style scoped>\n",
       "    .dataframe tbody tr th:only-of-type {\n",
       "        vertical-align: middle;\n",
       "    }\n",
       "\n",
       "    .dataframe tbody tr th {\n",
       "        vertical-align: top;\n",
       "    }\n",
       "\n",
       "    .dataframe thead th {\n",
       "        text-align: right;\n",
       "    }\n",
       "</style>\n",
       "<table border=\"1\" class=\"dataframe\">\n",
       "  <thead>\n",
       "    <tr style=\"text-align: right;\">\n",
       "      <th></th>\n",
       "      <th>Pregnancies</th>\n",
       "      <th>Glucose</th>\n",
       "      <th>BloodPressure</th>\n",
       "      <th>SkinThickness</th>\n",
       "      <th>Insulin</th>\n",
       "      <th>BMI</th>\n",
       "      <th>DiabetesPedigreeFunction</th>\n",
       "      <th>Age</th>\n",
       "    </tr>\n",
       "  </thead>\n",
       "  <tbody>\n",
       "    <tr>\n",
       "      <th>285</th>\n",
       "      <td>7</td>\n",
       "      <td>136</td>\n",
       "      <td>74.0</td>\n",
       "      <td>26</td>\n",
       "      <td>135</td>\n",
       "      <td>26.0</td>\n",
       "      <td>0.647</td>\n",
       "      <td>51</td>\n",
       "    </tr>\n",
       "    <tr>\n",
       "      <th>617</th>\n",
       "      <td>2</td>\n",
       "      <td>68</td>\n",
       "      <td>62.0</td>\n",
       "      <td>13</td>\n",
       "      <td>15</td>\n",
       "      <td>20.1</td>\n",
       "      <td>0.257</td>\n",
       "      <td>23</td>\n",
       "    </tr>\n",
       "    <tr>\n",
       "      <th>721</th>\n",
       "      <td>1</td>\n",
       "      <td>114</td>\n",
       "      <td>66.0</td>\n",
       "      <td>36</td>\n",
       "      <td>200</td>\n",
       "      <td>38.1</td>\n",
       "      <td>0.289</td>\n",
       "      <td>21</td>\n",
       "    </tr>\n",
       "    <tr>\n",
       "      <th>419</th>\n",
       "      <td>3</td>\n",
       "      <td>129</td>\n",
       "      <td>64.0</td>\n",
       "      <td>29</td>\n",
       "      <td>115</td>\n",
       "      <td>26.4</td>\n",
       "      <td>0.219</td>\n",
       "      <td>28</td>\n",
       "    </tr>\n",
       "    <tr>\n",
       "      <th>248</th>\n",
       "      <td>9</td>\n",
       "      <td>124</td>\n",
       "      <td>70.0</td>\n",
       "      <td>33</td>\n",
       "      <td>402</td>\n",
       "      <td>35.4</td>\n",
       "      <td>0.282</td>\n",
       "      <td>34</td>\n",
       "    </tr>\n",
       "    <tr>\n",
       "      <th>...</th>\n",
       "      <td>...</td>\n",
       "      <td>...</td>\n",
       "      <td>...</td>\n",
       "      <td>...</td>\n",
       "      <td>...</td>\n",
       "      <td>...</td>\n",
       "      <td>...</td>\n",
       "      <td>...</td>\n",
       "    </tr>\n",
       "    <tr>\n",
       "      <th>480</th>\n",
       "      <td>3</td>\n",
       "      <td>158</td>\n",
       "      <td>70.0</td>\n",
       "      <td>30</td>\n",
       "      <td>328</td>\n",
       "      <td>35.5</td>\n",
       "      <td>0.344</td>\n",
       "      <td>35</td>\n",
       "    </tr>\n",
       "    <tr>\n",
       "      <th>133</th>\n",
       "      <td>8</td>\n",
       "      <td>84</td>\n",
       "      <td>74.0</td>\n",
       "      <td>31</td>\n",
       "      <td>0</td>\n",
       "      <td>38.3</td>\n",
       "      <td>0.457</td>\n",
       "      <td>39</td>\n",
       "    </tr>\n",
       "    <tr>\n",
       "      <th>404</th>\n",
       "      <td>5</td>\n",
       "      <td>168</td>\n",
       "      <td>64.0</td>\n",
       "      <td>0</td>\n",
       "      <td>0</td>\n",
       "      <td>32.9</td>\n",
       "      <td>0.135</td>\n",
       "      <td>41</td>\n",
       "    </tr>\n",
       "    <tr>\n",
       "      <th>561</th>\n",
       "      <td>0</td>\n",
       "      <td>198</td>\n",
       "      <td>66.0</td>\n",
       "      <td>32</td>\n",
       "      <td>274</td>\n",
       "      <td>41.3</td>\n",
       "      <td>0.502</td>\n",
       "      <td>28</td>\n",
       "    </tr>\n",
       "    <tr>\n",
       "      <th>22</th>\n",
       "      <td>7</td>\n",
       "      <td>196</td>\n",
       "      <td>90.0</td>\n",
       "      <td>0</td>\n",
       "      <td>0</td>\n",
       "      <td>39.8</td>\n",
       "      <td>0.451</td>\n",
       "      <td>41</td>\n",
       "    </tr>\n",
       "  </tbody>\n",
       "</table>\n",
       "<p>75 rows × 8 columns</p>\n",
       "</div>"
      ],
      "text/plain": [
       "     Pregnancies  Glucose  BloodPressure  SkinThickness  Insulin   BMI  \\\n",
       "285            7      136           74.0             26      135  26.0   \n",
       "617            2       68           62.0             13       15  20.1   \n",
       "721            1      114           66.0             36      200  38.1   \n",
       "419            3      129           64.0             29      115  26.4   \n",
       "248            9      124           70.0             33      402  35.4   \n",
       "..           ...      ...            ...            ...      ...   ...   \n",
       "480            3      158           70.0             30      328  35.5   \n",
       "133            8       84           74.0             31        0  38.3   \n",
       "404            5      168           64.0              0        0  32.9   \n",
       "561            0      198           66.0             32      274  41.3   \n",
       "22             7      196           90.0              0        0  39.8   \n",
       "\n",
       "     DiabetesPedigreeFunction  Age  \n",
       "285                     0.647   51  \n",
       "617                     0.257   23  \n",
       "721                     0.289   21  \n",
       "419                     0.219   28  \n",
       "248                     0.282   34  \n",
       "..                        ...  ...  \n",
       "480                     0.344   35  \n",
       "133                     0.457   39  \n",
       "404                     0.135   41  \n",
       "561                     0.502   28  \n",
       "22                      0.451   41  \n",
       "\n",
       "[75 rows x 8 columns]"
      ]
     },
     "execution_count": 797,
     "metadata": {},
     "output_type": "execute_result"
    }
   ],
   "source": [
    "print(\"--- Answer 4 ---\")\n",
    "from sklearn.model_selection import train_test_split\n",
    "import numpy as np\n",
    "X_train, X_test = train_test_split(copy_df, test_size=0.10, random_state=30)\n",
    "print(\"After splitting of data into 90% training data\")\n",
    "display(X_train)\n",
    "print(\"After splitting of data into 10% testing data\")\n",
    "X_test\n",
    "\n"
   ]
  },
  {
   "cell_type": "markdown",
   "id": "6aaa88f9",
   "metadata": {},
   "source": [
    "Question 5."
   ]
  },
  {
   "cell_type": "code",
   "execution_count": 798,
   "id": "253e38b6",
   "metadata": {},
   "outputs": [
    {
     "data": {
      "text/html": [
       "<div>\n",
       "<style scoped>\n",
       "    .dataframe tbody tr th:only-of-type {\n",
       "        vertical-align: middle;\n",
       "    }\n",
       "\n",
       "    .dataframe tbody tr th {\n",
       "        vertical-align: top;\n",
       "    }\n",
       "\n",
       "    .dataframe thead th {\n",
       "        text-align: right;\n",
       "    }\n",
       "</style>\n",
       "<table border=\"1\" class=\"dataframe\">\n",
       "  <thead>\n",
       "    <tr style=\"text-align: right;\">\n",
       "      <th></th>\n",
       "      <th>Pregnancies</th>\n",
       "      <th>Glucose</th>\n",
       "      <th>BloodPressure</th>\n",
       "      <th>SkinThickness</th>\n",
       "      <th>Insulin</th>\n",
       "      <th>BMI</th>\n",
       "      <th>DiabetesPedigreeFunction</th>\n",
       "      <th>Age</th>\n",
       "    </tr>\n",
       "  </thead>\n",
       "  <tbody>\n",
       "    <tr>\n",
       "      <th>285</th>\n",
       "      <td>7</td>\n",
       "      <td>NaN</td>\n",
       "      <td>74.0</td>\n",
       "      <td>26</td>\n",
       "      <td>135</td>\n",
       "      <td>26.0</td>\n",
       "      <td>0.647</td>\n",
       "      <td>51</td>\n",
       "    </tr>\n",
       "    <tr>\n",
       "      <th>617</th>\n",
       "      <td>2</td>\n",
       "      <td>NaN</td>\n",
       "      <td>62.0</td>\n",
       "      <td>13</td>\n",
       "      <td>15</td>\n",
       "      <td>20.1</td>\n",
       "      <td>0.257</td>\n",
       "      <td>23</td>\n",
       "    </tr>\n",
       "    <tr>\n",
       "      <th>721</th>\n",
       "      <td>1</td>\n",
       "      <td>NaN</td>\n",
       "      <td>66.0</td>\n",
       "      <td>36</td>\n",
       "      <td>200</td>\n",
       "      <td>38.1</td>\n",
       "      <td>0.289</td>\n",
       "      <td>21</td>\n",
       "    </tr>\n",
       "    <tr>\n",
       "      <th>419</th>\n",
       "      <td>3</td>\n",
       "      <td>NaN</td>\n",
       "      <td>64.0</td>\n",
       "      <td>29</td>\n",
       "      <td>115</td>\n",
       "      <td>26.4</td>\n",
       "      <td>0.219</td>\n",
       "      <td>28</td>\n",
       "    </tr>\n",
       "    <tr>\n",
       "      <th>248</th>\n",
       "      <td>9</td>\n",
       "      <td>NaN</td>\n",
       "      <td>70.0</td>\n",
       "      <td>33</td>\n",
       "      <td>402</td>\n",
       "      <td>35.4</td>\n",
       "      <td>0.282</td>\n",
       "      <td>34</td>\n",
       "    </tr>\n",
       "    <tr>\n",
       "      <th>...</th>\n",
       "      <td>...</td>\n",
       "      <td>...</td>\n",
       "      <td>...</td>\n",
       "      <td>...</td>\n",
       "      <td>...</td>\n",
       "      <td>...</td>\n",
       "      <td>...</td>\n",
       "      <td>...</td>\n",
       "    </tr>\n",
       "    <tr>\n",
       "      <th>480</th>\n",
       "      <td>3</td>\n",
       "      <td>NaN</td>\n",
       "      <td>70.0</td>\n",
       "      <td>30</td>\n",
       "      <td>328</td>\n",
       "      <td>35.5</td>\n",
       "      <td>0.344</td>\n",
       "      <td>35</td>\n",
       "    </tr>\n",
       "    <tr>\n",
       "      <th>133</th>\n",
       "      <td>8</td>\n",
       "      <td>NaN</td>\n",
       "      <td>74.0</td>\n",
       "      <td>31</td>\n",
       "      <td>0</td>\n",
       "      <td>38.3</td>\n",
       "      <td>0.457</td>\n",
       "      <td>39</td>\n",
       "    </tr>\n",
       "    <tr>\n",
       "      <th>404</th>\n",
       "      <td>5</td>\n",
       "      <td>NaN</td>\n",
       "      <td>64.0</td>\n",
       "      <td>0</td>\n",
       "      <td>0</td>\n",
       "      <td>32.9</td>\n",
       "      <td>0.135</td>\n",
       "      <td>41</td>\n",
       "    </tr>\n",
       "    <tr>\n",
       "      <th>561</th>\n",
       "      <td>0</td>\n",
       "      <td>NaN</td>\n",
       "      <td>66.0</td>\n",
       "      <td>32</td>\n",
       "      <td>274</td>\n",
       "      <td>41.3</td>\n",
       "      <td>0.502</td>\n",
       "      <td>28</td>\n",
       "    </tr>\n",
       "    <tr>\n",
       "      <th>22</th>\n",
       "      <td>7</td>\n",
       "      <td>NaN</td>\n",
       "      <td>90.0</td>\n",
       "      <td>0</td>\n",
       "      <td>0</td>\n",
       "      <td>39.8</td>\n",
       "      <td>0.451</td>\n",
       "      <td>41</td>\n",
       "    </tr>\n",
       "  </tbody>\n",
       "</table>\n",
       "<p>75 rows × 8 columns</p>\n",
       "</div>"
      ],
      "text/plain": [
       "     Pregnancies  Glucose  BloodPressure  SkinThickness  Insulin   BMI  \\\n",
       "285            7      NaN           74.0             26      135  26.0   \n",
       "617            2      NaN           62.0             13       15  20.1   \n",
       "721            1      NaN           66.0             36      200  38.1   \n",
       "419            3      NaN           64.0             29      115  26.4   \n",
       "248            9      NaN           70.0             33      402  35.4   \n",
       "..           ...      ...            ...            ...      ...   ...   \n",
       "480            3      NaN           70.0             30      328  35.5   \n",
       "133            8      NaN           74.0             31        0  38.3   \n",
       "404            5      NaN           64.0              0        0  32.9   \n",
       "561            0      NaN           66.0             32      274  41.3   \n",
       "22             7      NaN           90.0              0        0  39.8   \n",
       "\n",
       "     DiabetesPedigreeFunction  Age  \n",
       "285                     0.647   51  \n",
       "617                     0.257   23  \n",
       "721                     0.289   21  \n",
       "419                     0.219   28  \n",
       "248                     0.282   34  \n",
       "..                        ...  ...  \n",
       "480                     0.344   35  \n",
       "133                     0.457   39  \n",
       "404                     0.135   41  \n",
       "561                     0.502   28  \n",
       "22                      0.451   41  \n",
       "\n",
       "[75 rows x 8 columns]"
      ]
     },
     "execution_count": 798,
     "metadata": {},
     "output_type": "execute_result"
    }
   ],
   "source": [
    "evaluation_df=X_test.copy()\n",
    "X_test.Glucose=np.nan\n",
    "X_test"
   ]
  },
  {
   "cell_type": "markdown",
   "id": "7a652b05",
   "metadata": {},
   "source": [
    "Question 6"
   ]
  },
  {
   "cell_type": "code",
   "execution_count": 799,
   "id": "b17f502d",
   "metadata": {},
   "outputs": [
    {
     "name": "stdout",
     "output_type": "stream",
     "text": [
      "---Answer 6---\n",
      " RMSE by replacing Mean is: 34.02827516645808\n"
     ]
    }
   ],
   "source": [
    "print(\"---Answer 6---\")\n",
    "from sklearn.metrics import mean_squared_error\n",
    "import math\n",
    "X_test.Glucose.fillna(X_train.Glucose.mean(), inplace=True)\n",
    "MSE = mean_squared_error(evaluation_df.Glucose, X_test.Glucose)\n",
    "rmse = math.sqrt(MSE)\n",
    "print(\" RMSE by replacing Mean is:\", rmse)"
   ]
  },
  {
   "cell_type": "markdown",
   "id": "c4107544",
   "metadata": {},
   "source": [
    "Question 7"
   ]
  },
  {
   "cell_type": "code",
   "execution_count": 800,
   "id": "ecbf1e7a",
   "metadata": {},
   "outputs": [
    {
     "name": "stdout",
     "output_type": "stream",
     "text": [
      "--- Answer 7 ---\n",
      "RMSE by replacing Median is: 34.79669524538214\n"
     ]
    }
   ],
   "source": [
    "print(\"--- Answer 7 ---\")\n",
    "X_test.Glucose=np.nan\n",
    "X_test.Glucose.fillna(X_train.Glucose.median(), inplace=True)\n",
    "MSE = mean_squared_error(evaluation_df.Glucose, X_test.Glucose)\n",
    "rmse = math.sqrt(MSE)\n",
    "print(\"RMSE by replacing Median is:\", rmse)"
   ]
  },
  {
   "cell_type": "markdown",
   "id": "b690db0f",
   "metadata": {},
   "source": [
    "Question 8"
   ]
  },
  {
   "cell_type": "code",
   "execution_count": 801,
   "id": "0d4898ca",
   "metadata": {},
   "outputs": [
    {
     "name": "stdout",
     "output_type": "stream",
     "text": [
      "--- Answer 8 ---\n",
      "RMSE by using 'most_frequent' strategy: 42.04711642907276\n"
     ]
    }
   ],
   "source": [
    "print(\"--- Answer 8 ---\")\n",
    "from sklearn.impute import SimpleImputer\n",
    "X_test.Glucose=np.nan\n",
    "imputer_df = SimpleImputer(strategy='most_frequent')\n",
    "imputer_df.fit(X_train.Glucose.values.reshape(-1,1))\n",
    "X_test.Glucose = imputer_df.transform(X_test.Glucose.values.reshape(-1,1))\n",
    "MSE = mean_squared_error(X_test.Glucose, evaluation_df.Glucose)\n",
    "rmse = math.sqrt(MSE)\n",
    "print(\"RMSE by using 'most_frequent' strategy:\",rmse)"
   ]
  },
  {
   "cell_type": "markdown",
   "id": "8648261d",
   "metadata": {},
   "source": [
    "Question 9."
   ]
  },
  {
   "cell_type": "code",
   "execution_count": 802,
   "id": "c7c159ef",
   "metadata": {},
   "outputs": [
    {
     "name": "stdout",
     "output_type": "stream",
     "text": [
      "--- Answer 9 ---\n",
      "RMSE by KNN Imputer : 27.567264537383355\n"
     ]
    }
   ],
   "source": [
    "print(\"--- Answer 9 ---\")\n",
    "from sklearn.impute import KNNImputer\n",
    "X_test.Glucose=np.nan\n",
    "KNN_df = KNNImputer(n_neighbors=3)\n",
    "KNN_df.fit(X_train)\n",
    "X_test = pd.DataFrame(KNN_df.transform(X_test),columns = X_test.columns)\n",
    "MSE = mean_squared_error(X_test.Glucose, evaluation_df.Glucose)\n",
    "rmse = math.sqrt(MSE)\n",
    "\n",
    "print(\"RMSE by KNN Imputer :\", rmse)"
   ]
  },
  {
   "cell_type": "markdown",
   "id": "2c294b4c",
   "metadata": {},
   "source": [
    "Question 10.\n",
    "\n",
    "Answer: While comparing the two imputers, The  RSME for imputer by \"most_frequent\" stratergy is around 42 and that of KNN Imputer is 27.Hence according to these values KNN Imputer is better."
   ]
  },
  {
   "cell_type": "markdown",
   "id": "e8b6be15",
   "metadata": {},
   "source": [
    "# Practical 1-B"
   ]
  },
  {
   "cell_type": "markdown",
   "id": "d707b474",
   "metadata": {},
   "source": [
    "Question 1: Outliers and Transformation"
   ]
  },
  {
   "cell_type": "markdown",
   "id": "938faf47",
   "metadata": {},
   "source": [
    "a."
   ]
  },
  {
   "cell_type": "code",
   "execution_count": 803,
   "id": "3ee40f4e",
   "metadata": {},
   "outputs": [
    {
     "name": "stdout",
     "output_type": "stream",
     "text": [
      "---Answer a ---\n",
      "skewness: 2.2640731933907463\n",
      "kurtosis: 7.212285118045992\n"
     ]
    }
   ],
   "source": [
    "print(\"---Answer a ---\")\n",
    "from scipy.stats import kurtosis\n",
    "from scipy.stats import skew\n",
    "df = pd.read_csv('diabetes.csv')\n",
    "skewness=skew(df.Insulin)\n",
    "kurtosis=kurtosis(df.Insulin)\n",
    "print(\"skewness:\",skewness)\n",
    "print(\"kurtosis:\",kurtosis)"
   ]
  },
  {
   "cell_type": "markdown",
   "id": "c87fe818",
   "metadata": {},
   "source": [
    "b"
   ]
  },
  {
   "cell_type": "code",
   "execution_count": 804,
   "id": "03af18ea",
   "metadata": {},
   "outputs": [
    {
     "name": "stdout",
     "output_type": "stream",
     "text": [
      "--- Answer b ---\n"
     ]
    },
    {
     "data": {
      "text/html": [
       "<div>\n",
       "<style scoped>\n",
       "    .dataframe tbody tr th:only-of-type {\n",
       "        vertical-align: middle;\n",
       "    }\n",
       "\n",
       "    .dataframe tbody tr th {\n",
       "        vertical-align: top;\n",
       "    }\n",
       "\n",
       "    .dataframe thead th {\n",
       "        text-align: right;\n",
       "    }\n",
       "</style>\n",
       "<table border=\"1\" class=\"dataframe\">\n",
       "  <thead>\n",
       "    <tr style=\"text-align: right;\">\n",
       "      <th></th>\n",
       "      <th>Pregnancies</th>\n",
       "      <th>Glucose</th>\n",
       "      <th>BloodPressure</th>\n",
       "      <th>SkinThickness</th>\n",
       "      <th>Insulin</th>\n",
       "      <th>BMI</th>\n",
       "      <th>DiabetesPedigreeFunction</th>\n",
       "      <th>Age</th>\n",
       "      <th>Outcome</th>\n",
       "    </tr>\n",
       "  </thead>\n",
       "  <tbody>\n",
       "    <tr>\n",
       "      <th>3</th>\n",
       "      <td>1</td>\n",
       "      <td>89</td>\n",
       "      <td>66.0</td>\n",
       "      <td>23</td>\n",
       "      <td>94</td>\n",
       "      <td>28.1</td>\n",
       "      <td>0.167</td>\n",
       "      <td>21</td>\n",
       "      <td>0</td>\n",
       "    </tr>\n",
       "    <tr>\n",
       "      <th>4</th>\n",
       "      <td>0</td>\n",
       "      <td>137</td>\n",
       "      <td>40.0</td>\n",
       "      <td>35</td>\n",
       "      <td>168</td>\n",
       "      <td>43.1</td>\n",
       "      <td>2.288</td>\n",
       "      <td>15</td>\n",
       "      <td>1</td>\n",
       "    </tr>\n",
       "    <tr>\n",
       "      <th>6</th>\n",
       "      <td>3</td>\n",
       "      <td>78</td>\n",
       "      <td>50.0</td>\n",
       "      <td>32</td>\n",
       "      <td>88</td>\n",
       "      <td>31.0</td>\n",
       "      <td>0.248</td>\n",
       "      <td>26</td>\n",
       "      <td>1</td>\n",
       "    </tr>\n",
       "    <tr>\n",
       "      <th>8</th>\n",
       "      <td>2</td>\n",
       "      <td>197</td>\n",
       "      <td>70.0</td>\n",
       "      <td>45</td>\n",
       "      <td>543</td>\n",
       "      <td>30.5</td>\n",
       "      <td>0.158</td>\n",
       "      <td>53</td>\n",
       "      <td>1</td>\n",
       "    </tr>\n",
       "    <tr>\n",
       "      <th>13</th>\n",
       "      <td>1</td>\n",
       "      <td>189</td>\n",
       "      <td>60.0</td>\n",
       "      <td>23</td>\n",
       "      <td>846</td>\n",
       "      <td>30.1</td>\n",
       "      <td>0.398</td>\n",
       "      <td>59</td>\n",
       "      <td>1</td>\n",
       "    </tr>\n",
       "    <tr>\n",
       "      <th>...</th>\n",
       "      <td>...</td>\n",
       "      <td>...</td>\n",
       "      <td>...</td>\n",
       "      <td>...</td>\n",
       "      <td>...</td>\n",
       "      <td>...</td>\n",
       "      <td>...</td>\n",
       "      <td>...</td>\n",
       "      <td>...</td>\n",
       "    </tr>\n",
       "    <tr>\n",
       "      <th>778</th>\n",
       "      <td>2</td>\n",
       "      <td>129</td>\n",
       "      <td>74.0</td>\n",
       "      <td>26</td>\n",
       "      <td>205</td>\n",
       "      <td>33.2</td>\n",
       "      <td>0.591</td>\n",
       "      <td>25</td>\n",
       "      <td>0</td>\n",
       "    </tr>\n",
       "    <tr>\n",
       "      <th>781</th>\n",
       "      <td>1</td>\n",
       "      <td>140</td>\n",
       "      <td>74.0</td>\n",
       "      <td>26</td>\n",
       "      <td>180</td>\n",
       "      <td>24.1</td>\n",
       "      <td>0.828</td>\n",
       "      <td>23</td>\n",
       "      <td>0</td>\n",
       "    </tr>\n",
       "    <tr>\n",
       "      <th>782</th>\n",
       "      <td>1</td>\n",
       "      <td>144</td>\n",
       "      <td>82.0</td>\n",
       "      <td>46</td>\n",
       "      <td>180</td>\n",
       "      <td>46.1</td>\n",
       "      <td>0.335</td>\n",
       "      <td>46</td>\n",
       "      <td>1</td>\n",
       "    </tr>\n",
       "    <tr>\n",
       "      <th>785</th>\n",
       "      <td>2</td>\n",
       "      <td>121</td>\n",
       "      <td>70.0</td>\n",
       "      <td>32</td>\n",
       "      <td>95</td>\n",
       "      <td>39.1</td>\n",
       "      <td>0.886</td>\n",
       "      <td>23</td>\n",
       "      <td>0</td>\n",
       "    </tr>\n",
       "    <tr>\n",
       "      <th>786</th>\n",
       "      <td>7</td>\n",
       "      <td>129</td>\n",
       "      <td>68.0</td>\n",
       "      <td>49</td>\n",
       "      <td>125</td>\n",
       "      <td>38.5</td>\n",
       "      <td>0.439</td>\n",
       "      <td>43</td>\n",
       "      <td>1</td>\n",
       "    </tr>\n",
       "  </tbody>\n",
       "</table>\n",
       "<p>404 rows × 9 columns</p>\n",
       "</div>"
      ],
      "text/plain": [
       "     Pregnancies  Glucose  BloodPressure  SkinThickness  Insulin   BMI  \\\n",
       "3              1       89           66.0             23       94  28.1   \n",
       "4              0      137           40.0             35      168  43.1   \n",
       "6              3       78           50.0             32       88  31.0   \n",
       "8              2      197           70.0             45      543  30.5   \n",
       "13             1      189           60.0             23      846  30.1   \n",
       "..           ...      ...            ...            ...      ...   ...   \n",
       "778            2      129           74.0             26      205  33.2   \n",
       "781            1      140           74.0             26      180  24.1   \n",
       "782            1      144           82.0             46      180  46.1   \n",
       "785            2      121           70.0             32       95  39.1   \n",
       "786            7      129           68.0             49      125  38.5   \n",
       "\n",
       "     DiabetesPedigreeFunction  Age  Outcome  \n",
       "3                       0.167   21        0  \n",
       "4                       2.288   15        1  \n",
       "6                       0.248   26        1  \n",
       "8                       0.158   53        1  \n",
       "13                      0.398   59        1  \n",
       "..                        ...  ...      ...  \n",
       "778                     0.591   25        0  \n",
       "781                     0.828   23        0  \n",
       "782                     0.335   46        1  \n",
       "785                     0.886   23        0  \n",
       "786                     0.439   43        1  \n",
       "\n",
       "[404 rows x 9 columns]"
      ]
     },
     "execution_count": 804,
     "metadata": {},
     "output_type": "execute_result"
    }
   ],
   "source": [
    "print(\"--- Answer b ---\")\n",
    "Insulin_data = df[(df['Insulin']!=0)]\n",
    "Insulin_data"
   ]
  },
  {
   "cell_type": "markdown",
   "id": "f36d3590",
   "metadata": {},
   "source": [
    "c."
   ]
  },
  {
   "cell_type": "code",
   "execution_count": 805,
   "id": "dda1e92f",
   "metadata": {},
   "outputs": [
    {
     "name": "stdout",
     "output_type": "stream",
     "text": [
      "---Answer c ---\n"
     ]
    },
    {
     "data": {
      "image/png": "[encoded data removed]",
      "text/plain": [
       "<Figure size 640x480 with 1 Axes>"
      ]
     },
     "metadata": {},
     "output_type": "display_data"
    }
   ],
   "source": [
    "print(\"---Answer c ---\")\n",
    "plt.figure()\n",
    "sns.histplot(x=Insulin_data.Insulin,kde=True) \n",
    "plt.title('Insulin with KDE')\n",
    "plt.show()"
   ]
  },
  {
   "cell_type": "markdown",
   "id": "f26e6012",
   "metadata": {},
   "source": [
    "d."
   ]
  },
  {
   "cell_type": "code",
   "execution_count": 806,
   "id": "c56570d5",
   "metadata": {},
   "outputs": [
    {
     "name": "stdout",
     "output_type": "stream",
     "text": [
      "---Answer d ---\n",
      "Q1: 77.0\n",
      "Q3: 190.0\n",
      "IQR:  113.0\n",
      "Upper bound is  359.5\n",
      "Lower bound is -92.5\n"
     ]
    },
    {
     "name": "stderr",
     "output_type": "stream",
     "text": [
      "C:\\Users\\tata\\AppData\\Local\\Temp\\ipykernel_3756\\3794568406.py:17: SettingWithCopyWarning: \n",
      "A value is trying to be set on a copy of a slice from a DataFrame.\n",
      "Try using .loc[row_indexer,col_indexer] = value instead\n",
      "\n",
      "See the caveats in the documentation: https://pandas.pydata.org/pandas-docs/stable/user_guide/indexing.html#returning-a-view-versus-a-copy\n",
      "  min = Insulin_data.Insulin = np.where(Insulin_data.Insulin < lower, lower, Insulin_data.Insulin)\n",
      "C:\\Users\\tata\\AppData\\Local\\Temp\\ipykernel_3756\\3794568406.py:18: SettingWithCopyWarning: \n",
      "A value is trying to be set on a copy of a slice from a DataFrame.\n",
      "Try using .loc[row_indexer,col_indexer] = value instead\n",
      "\n",
      "See the caveats in the documentation: https://pandas.pydata.org/pandas-docs/stable/user_guide/indexing.html#returning-a-view-versus-a-copy\n",
      "  max = Insulin_data.Insulin = np.where(Insulin_data.Insulin > upper, upper, Insulin_data.Insulin)\n"
     ]
    },
    {
     "data": {
      "image/png": "[encoded data removed]",
      "text/plain": [
       "<Figure size 640x480 with 1 Axes>"
      ]
     },
     "metadata": {},
     "output_type": "display_data"
    }
   ],
   "source": [
    "print(\"---Answer d ---\")\n",
    "Q1 = Insulin_data.Insulin.quantile(0.25)\n",
    "Q3 = Insulin_data.Insulin.quantile(0.75)\n",
    "IQR = Q3 - Q1\n",
    "print(\"Q1:\",Q1)\n",
    "print(\"Q3:\",Q3)\n",
    "print(\"IQR: \",IQR)\n",
    "upper = Q3 + 1.5 * IQR\n",
    "lower = Q1 - 1.5 * IQR\n",
    "\n",
    "print(\"Upper bound is \",upper)\n",
    "print(\"Lower bound is\",lower)\n",
    "\n",
    "outlier = Insulin_data[(Insulin_data.Insulin < lower) | (Insulin_data.Insulin > upper)]\n",
    "len(outlier)\n",
    "\n",
    "min = Insulin_data.Insulin = np.where(Insulin_data.Insulin < lower, lower, Insulin_data.Insulin)\n",
    "max = Insulin_data.Insulin = np.where(Insulin_data.Insulin > upper, upper, Insulin_data.Insulin)\n",
    "\n",
    "\n",
    "plt.figure()\n",
    "sns.histplot(x=Insulin_data.Insulin, kde=True)\n",
    "plt.title('Insulin with KDE After Removal of Outliers')\n",
    "plt.show()\n",
    "\n",
    "\n"
   ]
  },
  {
   "cell_type": "markdown",
   "id": "494bc8e6",
   "metadata": {},
   "source": [
    "e"
   ]
  },
  {
   "cell_type": "code",
   "execution_count": 807,
   "id": "6b3d092d",
   "metadata": {},
   "outputs": [
    {
     "name": "stdout",
     "output_type": "stream",
     "text": [
      "---Answer e---\n"
     ]
    },
    {
     "name": "stderr",
     "output_type": "stream",
     "text": [
      "C:\\Users\\tata\\AppData\\Local\\Temp\\ipykernel_3756\\4107530959.py:3: SettingWithCopyWarning: \n",
      "A value is trying to be set on a copy of a slice from a DataFrame.\n",
      "Try using .loc[row_indexer,col_indexer] = value instead\n",
      "\n",
      "See the caveats in the documentation: https://pandas.pydata.org/pandas-docs/stable/user_guide/indexing.html#returning-a-view-versus-a-copy\n",
      "  Insulin_data.Insulin = np.log1p(Insulin_data.Insulin)\n"
     ]
    },
    {
     "data": {
      "image/png": "[encoded data removed]",
      "text/plain": [
       "<Figure size 640x480 with 1 Axes>"
      ]
     },
     "metadata": {},
     "output_type": "display_data"
    }
   ],
   "source": [
    "print(\"---Answer e---\")\n",
    "Before_Value= Insulin_data.Insulin\n",
    "Insulin_data.Insulin = np.log1p(Insulin_data.Insulin)\n",
    "\n",
    "sns.histplot(x=Insulin_data.Insulin, kde=True)\n",
    "plt.title('Transformed Insulin Values')\n",
    "plt.show()"
   ]
  },
  {
   "cell_type": "markdown",
   "id": "827e7f87",
   "metadata": {},
   "source": [
    "f."
   ]
  },
  {
   "cell_type": "code",
   "execution_count": 808,
   "id": "792edf18",
   "metadata": {},
   "outputs": [
    {
     "name": "stdout",
     "output_type": "stream",
     "text": [
      "---Answer f---\n",
      "---Answer f ---\n",
      "Skewness after transformation: -0.3927779688212316\n",
      "Kurtosis after transformation: 0.031295173133778054\n"
     ]
    }
   ],
   "source": [
    "print(\"---Answer f---\")\n",
    "import scipy.stats as stats\n",
    "print(\"---Answer f ---\")\n",
    "skewness=stats.skew(Insulin_data.Insulin)\n",
    "kurtosis=stats.kurtosis(Insulin_data.Insulin)\n",
    "print(\"Skewness after transformation:\",skewness)\n",
    "print(\"Kurtosis after transformation:\",kurtosis)"
   ]
  },
  {
   "cell_type": "markdown",
   "id": "ebb94f39",
   "metadata": {},
   "source": [
    "g."
   ]
  },
  {
   "cell_type": "code",
   "execution_count": 809,
   "id": "6e88b4b7",
   "metadata": {},
   "outputs": [
    {
     "name": "stdout",
     "output_type": "stream",
     "text": [
      "--- Answer g ---\n"
     ]
    },
    {
     "data": {
      "image/png": "[encoded data removed]",
      "text/plain": [
       "<Figure size 640x480 with 2 Axes>"
      ]
     },
     "metadata": {},
     "output_type": "display_data"
    }
   ],
   "source": [
    "print(\"--- Answer g ---\")\n",
    "After_Value = Insulin_data.Insulin\n",
    "plt.subplot(1, 2, 1)\n",
    "stats.probplot(Before_Value,dist=\"norm\", plot=plt)\n",
    "plt.title('Insulin Before Transformation')\n",
    "\n",
    "plt.subplot(1, 2, 2)\n",
    "stats.probplot(After_Value, dist=\"norm\", plot=plt)\n",
    "plt.title('Insulin After Transformation')\n",
    "\n",
    "plt.show()\n"
   ]
  },
  {
   "cell_type": "markdown",
   "id": "4efd3e8c",
   "metadata": {},
   "source": [
    "h."
   ]
  },
  {
   "cell_type": "code",
   "execution_count": 810,
   "id": "a24647df",
   "metadata": {},
   "outputs": [
    {
     "name": "stdout",
     "output_type": "stream",
     "text": [
      "--- Answer h ---\n",
      "Q1: 99.0\n",
      "Q3: 143.0\n",
      "IQR: 44.0\n",
      "Lower Bound is  33.0\n",
      "Upper Bound is 209.0\n"
     ]
    },
    {
     "name": "stderr",
     "output_type": "stream",
     "text": [
      "C:\\Users\\tata\\AppData\\Local\\Temp\\ipykernel_3756\\3929025035.py:18: SettingWithCopyWarning: \n",
      "A value is trying to be set on a copy of a slice from a DataFrame.\n",
      "Try using .loc[row_indexer,col_indexer] = value instead\n",
      "\n",
      "See the caveats in the documentation: https://pandas.pydata.org/pandas-docs/stable/user_guide/indexing.html#returning-a-view-versus-a-copy\n",
      "  min_outlier = Insulin_data.Glucose = np.where(Insulin_data.Glucose < lower, lower, Insulin_data.Glucose)\n",
      "C:\\Users\\tata\\AppData\\Local\\Temp\\ipykernel_3756\\3929025035.py:19: SettingWithCopyWarning: \n",
      "A value is trying to be set on a copy of a slice from a DataFrame.\n",
      "Try using .loc[row_indexer,col_indexer] = value instead\n",
      "\n",
      "See the caveats in the documentation: https://pandas.pydata.org/pandas-docs/stable/user_guide/indexing.html#returning-a-view-versus-a-copy\n",
      "  max_outlier = Insulin_data.Glucose = np.where(Insulin_data.Glucose > upper, upper, Insulin_data.Glucose)\n"
     ]
    },
    {
     "data": {
      "image/png": "[encoded data removed]",
      "text/plain": [
       "<Figure size 640x480 with 1 Axes>"
      ]
     },
     "metadata": {},
     "output_type": "display_data"
    }
   ],
   "source": [
    "print(\"--- Answer h ---\")\n",
    "Q1 = Insulin_data.Glucose.quantile(0.25)\n",
    "Q3 = Insulin_data.Glucose.quantile(0.75)\n",
    "IQR = Q3 - Q1\n",
    "print(\"Q1:\", Q1)\n",
    "print(\"Q3:\",Q3)\n",
    "print(\"IQR:\",IQR )\n",
    "\n",
    "lower = Q1 - 1.5 * IQR\n",
    "upper = Q3 + 1.5 * IQR\n",
    "\n",
    "print(\"Lower Bound is \",lower)\n",
    "print(\"Upper Bound is\",upper)\n",
    "\n",
    "glucose_outlier = Insulin_data[(Insulin_data.Glucose < lower) | (Insulin_data.Glucose > upper)]\n",
    "glucose_outlier.Glucose.count()\n",
    " \n",
    "min_outlier = Insulin_data.Glucose = np.where(Insulin_data.Glucose < lower, lower, Insulin_data.Glucose)\n",
    "max_outlier = Insulin_data.Glucose = np.where(Insulin_data.Glucose > upper, upper, Insulin_data.Glucose)\n",
    "\n",
    "\n",
    "plt.figure()\n",
    "sns.histplot(x=Insulin_data.Glucose, kde=True)\n",
    "plt.title('Glucose with KDE')\n",
    "plt.show()"
   ]
  },
  {
   "cell_type": "markdown",
   "id": "b8a834a0",
   "metadata": {},
   "source": [
    "h"
   ]
  },
  {
   "cell_type": "code",
   "execution_count": 811,
   "id": "6ea37db7",
   "metadata": {},
   "outputs": [
    {
     "name": "stdout",
     "output_type": "stream",
     "text": [
      "--- Answer h ---\n",
      "Q1: 62.0\n",
      "Q3: 78.0\n",
      "IQR:  16.0\n",
      "Lower Bound is  38.0\n",
      "Upper Bound is 102.0\n"
     ]
    },
    {
     "name": "stderr",
     "output_type": "stream",
     "text": [
      "C:\\Users\\tata\\AppData\\Local\\Temp\\ipykernel_3756\\205499450.py:18: SettingWithCopyWarning: \n",
      "A value is trying to be set on a copy of a slice from a DataFrame.\n",
      "Try using .loc[row_indexer,col_indexer] = value instead\n",
      "\n",
      "See the caveats in the documentation: https://pandas.pydata.org/pandas-docs/stable/user_guide/indexing.html#returning-a-view-versus-a-copy\n",
      "  min_outlier = Insulin_data.BloodPressure = np.where(Insulin_data.BloodPressure < lower, lower, Insulin_data.BloodPressure)\n",
      "C:\\Users\\tata\\AppData\\Local\\Temp\\ipykernel_3756\\205499450.py:19: SettingWithCopyWarning: \n",
      "A value is trying to be set on a copy of a slice from a DataFrame.\n",
      "Try using .loc[row_indexer,col_indexer] = value instead\n",
      "\n",
      "See the caveats in the documentation: https://pandas.pydata.org/pandas-docs/stable/user_guide/indexing.html#returning-a-view-versus-a-copy\n",
      "  max_outlier = Insulin_data.BloodPressure = np.where(Insulin_data.BloodPressure > upper, upper, Insulin_data.BloodPressure)\n"
     ]
    },
    {
     "data": {
      "image/png": "[encoded data removed]",
      "text/plain": [
       "<Figure size 640x480 with 1 Axes>"
      ]
     },
     "metadata": {},
     "output_type": "display_data"
    }
   ],
   "source": [
    "print(\"--- Answer h ---\")\n",
    "Q1 = Insulin_data.BloodPressure.quantile(0.25)\n",
    "Q3 = Insulin_data.BloodPressure.quantile(0.75)\n",
    "IQR = Q3 - Q1\n",
    "print(\"Q1:\", Q1)\n",
    "print(\"Q3:\",Q3)\n",
    "print(\"IQR: \",IQR )\n",
    "\n",
    "lower = Q1 - 1.5 * IQR\n",
    "upper = Q3 + 1.5 * IQR\n",
    "\n",
    "print(\"Lower Bound is \",lower)\n",
    "print(\"Upper Bound is\",upper)\n",
    "\n",
    "BloodPressure_outlier = Insulin_data[(Insulin_data.BloodPressure < lower) | (Insulin_data.BloodPressure > upper)]\n",
    "BloodPressure_outlier.BloodPressure.count()\n",
    " \n",
    "min_outlier = Insulin_data.BloodPressure = np.where(Insulin_data.BloodPressure < lower, lower, Insulin_data.BloodPressure)\n",
    "max_outlier = Insulin_data.BloodPressure = np.where(Insulin_data.BloodPressure > upper, upper, Insulin_data.BloodPressure)\n",
    "\n",
    "\n",
    "plt.figure()\n",
    "sns.histplot(x=Insulin_data.BloodPressure, kde=True)\n",
    "plt.title('BloodPressure with KDE')\n",
    "plt.show()"
   ]
  },
  {
   "cell_type": "markdown",
   "id": "89f2443f",
   "metadata": {},
   "source": [
    "h"
   ]
  },
  {
   "cell_type": "code",
   "execution_count": 812,
   "id": "9b0388a5",
   "metadata": {},
   "outputs": [
    {
     "name": "stdout",
     "output_type": "stream",
     "text": [
      "--- Answer h ---\n",
      "Q1 21.0\n",
      "Q3 37.0\n",
      "IQR  16.0\n",
      "Lower Bound is  -3.0\n",
      "Upper Bound is 61.0\n"
     ]
    },
    {
     "name": "stderr",
     "output_type": "stream",
     "text": [
      "C:\\Users\\tata\\AppData\\Local\\Temp\\ipykernel_3756\\4151704385.py:18: SettingWithCopyWarning: \n",
      "A value is trying to be set on a copy of a slice from a DataFrame.\n",
      "Try using .loc[row_indexer,col_indexer] = value instead\n",
      "\n",
      "See the caveats in the documentation: https://pandas.pydata.org/pandas-docs/stable/user_guide/indexing.html#returning-a-view-versus-a-copy\n",
      "  min_outlier = Insulin_data.SkinThickness = np.where(Insulin_data.SkinThickness < lower, lower, Insulin_data.SkinThickness)\n",
      "C:\\Users\\tata\\AppData\\Local\\Temp\\ipykernel_3756\\4151704385.py:19: SettingWithCopyWarning: \n",
      "A value is trying to be set on a copy of a slice from a DataFrame.\n",
      "Try using .loc[row_indexer,col_indexer] = value instead\n",
      "\n",
      "See the caveats in the documentation: https://pandas.pydata.org/pandas-docs/stable/user_guide/indexing.html#returning-a-view-versus-a-copy\n",
      "  max_outlier = Insulin_data.SkinThickness = np.where(Insulin_data.SkinThickness > upper, upper, Insulin_data.SkinThickness)\n"
     ]
    },
    {
     "data": {
      "image/png": "[encoded data removed]",
      "text/plain": [
       "<Figure size 640x480 with 1 Axes>"
      ]
     },
     "metadata": {},
     "output_type": "display_data"
    }
   ],
   "source": [
    "print(\"--- Answer h ---\")\n",
    "Q1 = Insulin_data.SkinThickness.quantile(0.25)\n",
    "Q3 = Insulin_data.SkinThickness.quantile(0.75)\n",
    "IQR = Q3 - Q1\n",
    "print(\"Q1\", Q1)\n",
    "print(\"Q3\",Q3)\n",
    "print(\"IQR \",IQR )\n",
    "\n",
    "lower = Q1 - 1.5 * IQR\n",
    "upper = Q3 + 1.5 * IQR\n",
    "\n",
    "print(\"Lower Bound is \",lower)\n",
    "print(\"Upper Bound is\",upper)\n",
    "\n",
    "SkinThickness_outlier = Insulin_data[(Insulin_data.SkinThickness < lower) | (Insulin_data.SkinThickness > upper)]\n",
    "SkinThickness_outlier.SkinThickness.count()\n",
    " \n",
    "min_outlier = Insulin_data.SkinThickness = np.where(Insulin_data.SkinThickness < lower, lower, Insulin_data.SkinThickness)\n",
    "max_outlier = Insulin_data.SkinThickness = np.where(Insulin_data.SkinThickness > upper, upper, Insulin_data.SkinThickness)\n",
    "\n",
    "\n",
    "plt.figure()\n",
    "sns.histplot(x=Insulin_data.SkinThickness, kde=True)\n",
    "plt.title('SkinThickness with KDE')\n",
    "plt.show()"
   ]
  },
  {
   "cell_type": "markdown",
   "id": "2c65ee16",
   "metadata": {},
   "source": [
    "i"
   ]
  },
  {
   "cell_type": "code",
   "execution_count": 813,
   "id": "df6aa68a",
   "metadata": {},
   "outputs": [
    {
     "name": "stdout",
     "output_type": "stream",
     "text": [
      "--- Answer i ---\n"
     ]
    },
    {
     "data": {
      "image/png": "[encoded data removed]",
      "text/plain": [
       "<Figure size 640x480 with 2 Axes>"
      ]
     },
     "metadata": {},
     "output_type": "display_data"
    }
   ],
   "source": [
    "print(\"--- Answer i ---\")\n",
    "value = ['Pregnancies', 'Glucose', 'BloodPressure', 'SkinThickness', 'Insulin', 'BMI', 'Age']\n",
    "matrix = Insulin_data[value].corr()\n",
    "\n",
    "sns.heatmap(matrix,linewidths=1,annot=True,cmap='coolwarm',)\n",
    "plt.title('Correlation Matrix by Seaborn Heatmap')\n",
    "plt.show()"
   ]
  },
  {
   "cell_type": "markdown",
   "id": "cef0fb26",
   "metadata": {},
   "source": [
    "# Question 2:Data Processing"
   ]
  },
  {
   "cell_type": "markdown",
   "id": "e54b4547",
   "metadata": {},
   "source": [
    "a."
   ]
  },
  {
   "cell_type": "code",
   "execution_count": 814,
   "id": "e27edc9c",
   "metadata": {},
   "outputs": [
    {
     "name": "stdout",
     "output_type": "stream",
     "text": [
      "--- Answer a ---\n"
     ]
    },
    {
     "data": {
      "text/plain": [
       "Pregnancies\n",
       "0     73.263158\n",
       "1     68.468085\n",
       "2     66.107692\n",
       "3     70.177778\n",
       "4     70.458333\n",
       "5     73.300000\n",
       "6     67.052632\n",
       "7     72.476190\n",
       "8     78.285714\n",
       "9     80.666667\n",
       "10    81.600000\n",
       "11    81.600000\n",
       "12    74.400000\n",
       "13    86.666667\n",
       "14    78.000000\n",
       "15    70.000000\n",
       "17    72.000000\n",
       "Name: BloodPressure, dtype: float64"
      ]
     },
     "metadata": {},
     "output_type": "display_data"
    }
   ],
   "source": [
    "print(\"--- Answer a ---\")\n",
    "df_patient = Insulin_data.groupby('Pregnancies')['BloodPressure'].mean()\n",
    "display(df_patient)"
   ]
  },
  {
   "cell_type": "markdown",
   "id": "13589765",
   "metadata": {},
   "source": [
    "b."
   ]
  },
  {
   "cell_type": "code",
   "execution_count": 815,
   "id": "1beb580b",
   "metadata": {},
   "outputs": [
    {
     "name": "stdout",
     "output_type": "stream",
     "text": [
      "--- Answer b ---\n"
     ]
    },
    {
     "data": {
      "text/html": [
       "<div>\n",
       "<style scoped>\n",
       "    .dataframe tbody tr th:only-of-type {\n",
       "        vertical-align: middle;\n",
       "    }\n",
       "\n",
       "    .dataframe tbody tr th {\n",
       "        vertical-align: top;\n",
       "    }\n",
       "\n",
       "    .dataframe thead tr th {\n",
       "        text-align: left;\n",
       "    }\n",
       "\n",
       "    .dataframe thead tr:last-of-type th {\n",
       "        text-align: right;\n",
       "    }\n",
       "</style>\n",
       "<table border=\"1\" class=\"dataframe\">\n",
       "  <thead>\n",
       "    <tr>\n",
       "      <th></th>\n",
       "      <th colspan=\"3\" halign=\"left\">Age</th>\n",
       "    </tr>\n",
       "    <tr>\n",
       "      <th></th>\n",
       "      <th>mean</th>\n",
       "      <th>sum</th>\n",
       "      <th>count</th>\n",
       "    </tr>\n",
       "    <tr>\n",
       "      <th>Pregnancies</th>\n",
       "      <th></th>\n",
       "      <th></th>\n",
       "      <th></th>\n",
       "    </tr>\n",
       "  </thead>\n",
       "  <tbody>\n",
       "    <tr>\n",
       "      <th>0</th>\n",
       "      <td>24.258621</td>\n",
       "      <td>1407</td>\n",
       "      <td>58</td>\n",
       "    </tr>\n",
       "    <tr>\n",
       "      <th>1</th>\n",
       "      <td>27.122449</td>\n",
       "      <td>2658</td>\n",
       "      <td>98</td>\n",
       "    </tr>\n",
       "    <tr>\n",
       "      <th>2</th>\n",
       "      <td>25.194030</td>\n",
       "      <td>1688</td>\n",
       "      <td>67</td>\n",
       "    </tr>\n",
       "    <tr>\n",
       "      <th>3</th>\n",
       "      <td>28.244444</td>\n",
       "      <td>1271</td>\n",
       "      <td>45</td>\n",
       "    </tr>\n",
       "    <tr>\n",
       "      <th>4</th>\n",
       "      <td>30.407407</td>\n",
       "      <td>821</td>\n",
       "      <td>27</td>\n",
       "    </tr>\n",
       "    <tr>\n",
       "      <th>5</th>\n",
       "      <td>34.666667</td>\n",
       "      <td>728</td>\n",
       "      <td>21</td>\n",
       "    </tr>\n",
       "    <tr>\n",
       "      <th>6</th>\n",
       "      <td>38.368421</td>\n",
       "      <td>729</td>\n",
       "      <td>19</td>\n",
       "    </tr>\n",
       "    <tr>\n",
       "      <th>7</th>\n",
       "      <td>42.761905</td>\n",
       "      <td>898</td>\n",
       "      <td>21</td>\n",
       "    </tr>\n",
       "    <tr>\n",
       "      <th>8</th>\n",
       "      <td>44.714286</td>\n",
       "      <td>626</td>\n",
       "      <td>14</td>\n",
       "    </tr>\n",
       "    <tr>\n",
       "      <th>9</th>\n",
       "      <td>46.583333</td>\n",
       "      <td>559</td>\n",
       "      <td>12</td>\n",
       "    </tr>\n",
       "    <tr>\n",
       "      <th>10</th>\n",
       "      <td>48.000000</td>\n",
       "      <td>288</td>\n",
       "      <td>6</td>\n",
       "    </tr>\n",
       "    <tr>\n",
       "      <th>11</th>\n",
       "      <td>48.400000</td>\n",
       "      <td>242</td>\n",
       "      <td>5</td>\n",
       "    </tr>\n",
       "    <tr>\n",
       "      <th>12</th>\n",
       "      <td>46.800000</td>\n",
       "      <td>234</td>\n",
       "      <td>5</td>\n",
       "    </tr>\n",
       "    <tr>\n",
       "      <th>13</th>\n",
       "      <td>46.333333</td>\n",
       "      <td>139</td>\n",
       "      <td>3</td>\n",
       "    </tr>\n",
       "    <tr>\n",
       "      <th>14</th>\n",
       "      <td>46.000000</td>\n",
       "      <td>46</td>\n",
       "      <td>1</td>\n",
       "    </tr>\n",
       "    <tr>\n",
       "      <th>15</th>\n",
       "      <td>43.000000</td>\n",
       "      <td>43</td>\n",
       "      <td>1</td>\n",
       "    </tr>\n",
       "    <tr>\n",
       "      <th>17</th>\n",
       "      <td>47.000000</td>\n",
       "      <td>47</td>\n",
       "      <td>1</td>\n",
       "    </tr>\n",
       "  </tbody>\n",
       "</table>\n",
       "</div>"
      ],
      "text/plain": [
       "                   Age            \n",
       "                  mean   sum count\n",
       "Pregnancies                       \n",
       "0            24.258621  1407    58\n",
       "1            27.122449  2658    98\n",
       "2            25.194030  1688    67\n",
       "3            28.244444  1271    45\n",
       "4            30.407407   821    27\n",
       "5            34.666667   728    21\n",
       "6            38.368421   729    19\n",
       "7            42.761905   898    21\n",
       "8            44.714286   626    14\n",
       "9            46.583333   559    12\n",
       "10           48.000000   288     6\n",
       "11           48.400000   242     5\n",
       "12           46.800000   234     5\n",
       "13           46.333333   139     3\n",
       "14           46.000000    46     1\n",
       "15           43.000000    43     1\n",
       "17           47.000000    47     1"
      ]
     },
     "metadata": {},
     "output_type": "display_data"
    }
   ],
   "source": [
    "print(\"--- Answer b ---\")\n",
    "df_patient = Insulin_data.groupby('Pregnancies').agg({ 'Age': ['mean', 'sum', 'count']})\n",
    "display(df_patient)"
   ]
  },
  {
   "cell_type": "markdown",
   "id": "b6591e97",
   "metadata": {},
   "source": [
    "c"
   ]
  },
  {
   "cell_type": "code",
   "execution_count": 816,
   "id": "2d5a25e1",
   "metadata": {},
   "outputs": [
    {
     "name": "stdout",
     "output_type": "stream",
     "text": [
      "--- Answer c ---\n"
     ]
    },
    {
     "name": "stderr",
     "output_type": "stream",
     "text": [
      "C:\\Users\\tata\\AppData\\Local\\Temp\\ipykernel_3756\\2398998136.py:2: SettingWithCopyWarning: \n",
      "A value is trying to be set on a copy of a slice from a DataFrame.\n",
      "Try using .loc[row_indexer,col_indexer] = value instead\n",
      "\n",
      "See the caveats in the documentation: https://pandas.pydata.org/pandas-docs/stable/user_guide/indexing.html#returning-a-view-versus-a-copy\n",
      "  Insulin_data['BMI/Age'] = Insulin_data['BMI'] / Insulin_data['Age']\n"
     ]
    },
    {
     "data": {
      "text/html": [
       "<div>\n",
       "<style scoped>\n",
       "    .dataframe tbody tr th:only-of-type {\n",
       "        vertical-align: middle;\n",
       "    }\n",
       "\n",
       "    .dataframe tbody tr th {\n",
       "        vertical-align: top;\n",
       "    }\n",
       "\n",
       "    .dataframe thead th {\n",
       "        text-align: right;\n",
       "    }\n",
       "</style>\n",
       "<table border=\"1\" class=\"dataframe\">\n",
       "  <thead>\n",
       "    <tr style=\"text-align: right;\">\n",
       "      <th></th>\n",
       "      <th>Pregnancies</th>\n",
       "      <th>Glucose</th>\n",
       "      <th>BloodPressure</th>\n",
       "      <th>SkinThickness</th>\n",
       "      <th>Insulin</th>\n",
       "      <th>BMI</th>\n",
       "      <th>DiabetesPedigreeFunction</th>\n",
       "      <th>Age</th>\n",
       "      <th>Outcome</th>\n",
       "      <th>BMI/Age</th>\n",
       "    </tr>\n",
       "  </thead>\n",
       "  <tbody>\n",
       "    <tr>\n",
       "      <th>3</th>\n",
       "      <td>1</td>\n",
       "      <td>89.0</td>\n",
       "      <td>66.0</td>\n",
       "      <td>23.0</td>\n",
       "      <td>4.553877</td>\n",
       "      <td>28.1</td>\n",
       "      <td>0.167</td>\n",
       "      <td>21</td>\n",
       "      <td>0</td>\n",
       "      <td>1.338095</td>\n",
       "    </tr>\n",
       "    <tr>\n",
       "      <th>4</th>\n",
       "      <td>0</td>\n",
       "      <td>137.0</td>\n",
       "      <td>40.0</td>\n",
       "      <td>35.0</td>\n",
       "      <td>5.129899</td>\n",
       "      <td>43.1</td>\n",
       "      <td>2.288</td>\n",
       "      <td>15</td>\n",
       "      <td>1</td>\n",
       "      <td>2.873333</td>\n",
       "    </tr>\n",
       "    <tr>\n",
       "      <th>6</th>\n",
       "      <td>3</td>\n",
       "      <td>78.0</td>\n",
       "      <td>50.0</td>\n",
       "      <td>32.0</td>\n",
       "      <td>4.488636</td>\n",
       "      <td>31.0</td>\n",
       "      <td>0.248</td>\n",
       "      <td>26</td>\n",
       "      <td>1</td>\n",
       "      <td>1.192308</td>\n",
       "    </tr>\n",
       "    <tr>\n",
       "      <th>8</th>\n",
       "      <td>2</td>\n",
       "      <td>197.0</td>\n",
       "      <td>70.0</td>\n",
       "      <td>45.0</td>\n",
       "      <td>5.887492</td>\n",
       "      <td>30.5</td>\n",
       "      <td>0.158</td>\n",
       "      <td>53</td>\n",
       "      <td>1</td>\n",
       "      <td>0.575472</td>\n",
       "    </tr>\n",
       "    <tr>\n",
       "      <th>13</th>\n",
       "      <td>1</td>\n",
       "      <td>189.0</td>\n",
       "      <td>60.0</td>\n",
       "      <td>23.0</td>\n",
       "      <td>5.887492</td>\n",
       "      <td>30.1</td>\n",
       "      <td>0.398</td>\n",
       "      <td>59</td>\n",
       "      <td>1</td>\n",
       "      <td>0.510169</td>\n",
       "    </tr>\n",
       "    <tr>\n",
       "      <th>...</th>\n",
       "      <td>...</td>\n",
       "      <td>...</td>\n",
       "      <td>...</td>\n",
       "      <td>...</td>\n",
       "      <td>...</td>\n",
       "      <td>...</td>\n",
       "      <td>...</td>\n",
       "      <td>...</td>\n",
       "      <td>...</td>\n",
       "      <td>...</td>\n",
       "    </tr>\n",
       "    <tr>\n",
       "      <th>778</th>\n",
       "      <td>2</td>\n",
       "      <td>129.0</td>\n",
       "      <td>74.0</td>\n",
       "      <td>26.0</td>\n",
       "      <td>5.327876</td>\n",
       "      <td>33.2</td>\n",
       "      <td>0.591</td>\n",
       "      <td>25</td>\n",
       "      <td>0</td>\n",
       "      <td>1.328000</td>\n",
       "    </tr>\n",
       "    <tr>\n",
       "      <th>781</th>\n",
       "      <td>1</td>\n",
       "      <td>140.0</td>\n",
       "      <td>74.0</td>\n",
       "      <td>26.0</td>\n",
       "      <td>5.198497</td>\n",
       "      <td>24.1</td>\n",
       "      <td>0.828</td>\n",
       "      <td>23</td>\n",
       "      <td>0</td>\n",
       "      <td>1.047826</td>\n",
       "    </tr>\n",
       "    <tr>\n",
       "      <th>782</th>\n",
       "      <td>1</td>\n",
       "      <td>144.0</td>\n",
       "      <td>82.0</td>\n",
       "      <td>46.0</td>\n",
       "      <td>5.198497</td>\n",
       "      <td>46.1</td>\n",
       "      <td>0.335</td>\n",
       "      <td>46</td>\n",
       "      <td>1</td>\n",
       "      <td>1.002174</td>\n",
       "    </tr>\n",
       "    <tr>\n",
       "      <th>785</th>\n",
       "      <td>2</td>\n",
       "      <td>121.0</td>\n",
       "      <td>70.0</td>\n",
       "      <td>32.0</td>\n",
       "      <td>4.564348</td>\n",
       "      <td>39.1</td>\n",
       "      <td>0.886</td>\n",
       "      <td>23</td>\n",
       "      <td>0</td>\n",
       "      <td>1.700000</td>\n",
       "    </tr>\n",
       "    <tr>\n",
       "      <th>786</th>\n",
       "      <td>7</td>\n",
       "      <td>129.0</td>\n",
       "      <td>68.0</td>\n",
       "      <td>49.0</td>\n",
       "      <td>4.836282</td>\n",
       "      <td>38.5</td>\n",
       "      <td>0.439</td>\n",
       "      <td>43</td>\n",
       "      <td>1</td>\n",
       "      <td>0.895349</td>\n",
       "    </tr>\n",
       "  </tbody>\n",
       "</table>\n",
       "<p>404 rows × 10 columns</p>\n",
       "</div>"
      ],
      "text/plain": [
       "     Pregnancies  Glucose  BloodPressure  SkinThickness   Insulin   BMI  \\\n",
       "3              1     89.0           66.0           23.0  4.553877  28.1   \n",
       "4              0    137.0           40.0           35.0  5.129899  43.1   \n",
       "6              3     78.0           50.0           32.0  4.488636  31.0   \n",
       "8              2    197.0           70.0           45.0  5.887492  30.5   \n",
       "13             1    189.0           60.0           23.0  5.887492  30.1   \n",
       "..           ...      ...            ...            ...       ...   ...   \n",
       "778            2    129.0           74.0           26.0  5.327876  33.2   \n",
       "781            1    140.0           74.0           26.0  5.198497  24.1   \n",
       "782            1    144.0           82.0           46.0  5.198497  46.1   \n",
       "785            2    121.0           70.0           32.0  4.564348  39.1   \n",
       "786            7    129.0           68.0           49.0  4.836282  38.5   \n",
       "\n",
       "     DiabetesPedigreeFunction  Age  Outcome   BMI/Age  \n",
       "3                       0.167   21        0  1.338095  \n",
       "4                       2.288   15        1  2.873333  \n",
       "6                       0.248   26        1  1.192308  \n",
       "8                       0.158   53        1  0.575472  \n",
       "13                      0.398   59        1  0.510169  \n",
       "..                        ...  ...      ...       ...  \n",
       "778                     0.591   25        0  1.328000  \n",
       "781                     0.828   23        0  1.047826  \n",
       "782                     0.335   46        1  1.002174  \n",
       "785                     0.886   23        0  1.700000  \n",
       "786                     0.439   43        1  0.895349  \n",
       "\n",
       "[404 rows x 10 columns]"
      ]
     },
     "metadata": {},
     "output_type": "display_data"
    }
   ],
   "source": [
    "print(\"--- Answer c ---\")\n",
    "Insulin_data['BMI/Age'] = Insulin_data['BMI'] / Insulin_data['Age']\n",
    "display(Insulin_data)"
   ]
  },
  {
   "cell_type": "markdown",
   "id": "ed4ed863",
   "metadata": {},
   "source": [
    "d"
   ]
  },
  {
   "cell_type": "code",
   "execution_count": 817,
   "id": "69c1cce4",
   "metadata": {},
   "outputs": [
    {
     "name": "stdout",
     "output_type": "stream",
     "text": [
      "--- Answer d ---\n"
     ]
    },
    {
     "name": "stderr",
     "output_type": "stream",
     "text": [
      "C:\\Users\\tata\\AppData\\Local\\Temp\\ipykernel_3756\\3330260239.py:12: UserWarning: Pandas doesn't allow columns to be created via a new attribute name - see https://pandas.pydata.org/pandas-docs/stable/indexing.html#attribute-access\n",
      "  Insulin_data.Risk = Insulin_data.apply(risk_function, axis=1)\n"
     ]
    },
    {
     "data": {
      "text/html": [
       "<div>\n",
       "<style scoped>\n",
       "    .dataframe tbody tr th:only-of-type {\n",
       "        vertical-align: middle;\n",
       "    }\n",
       "\n",
       "    .dataframe tbody tr th {\n",
       "        vertical-align: top;\n",
       "    }\n",
       "\n",
       "    .dataframe thead th {\n",
       "        text-align: right;\n",
       "    }\n",
       "</style>\n",
       "<table border=\"1\" class=\"dataframe\">\n",
       "  <thead>\n",
       "    <tr style=\"text-align: right;\">\n",
       "      <th></th>\n",
       "      <th>Pregnancies</th>\n",
       "      <th>Glucose</th>\n",
       "      <th>BloodPressure</th>\n",
       "      <th>SkinThickness</th>\n",
       "      <th>Insulin</th>\n",
       "      <th>BMI</th>\n",
       "      <th>DiabetesPedigreeFunction</th>\n",
       "      <th>Age</th>\n",
       "      <th>Outcome</th>\n",
       "      <th>BMI/Age</th>\n",
       "    </tr>\n",
       "  </thead>\n",
       "  <tbody>\n",
       "    <tr>\n",
       "      <th>3</th>\n",
       "      <td>1</td>\n",
       "      <td>89.0</td>\n",
       "      <td>66.0</td>\n",
       "      <td>23.0</td>\n",
       "      <td>4.553877</td>\n",
       "      <td>28.1</td>\n",
       "      <td>0.167</td>\n",
       "      <td>21</td>\n",
       "      <td>0</td>\n",
       "      <td>1.338095</td>\n",
       "    </tr>\n",
       "    <tr>\n",
       "      <th>4</th>\n",
       "      <td>0</td>\n",
       "      <td>137.0</td>\n",
       "      <td>40.0</td>\n",
       "      <td>35.0</td>\n",
       "      <td>5.129899</td>\n",
       "      <td>43.1</td>\n",
       "      <td>2.288</td>\n",
       "      <td>15</td>\n",
       "      <td>1</td>\n",
       "      <td>2.873333</td>\n",
       "    </tr>\n",
       "    <tr>\n",
       "      <th>6</th>\n",
       "      <td>3</td>\n",
       "      <td>78.0</td>\n",
       "      <td>50.0</td>\n",
       "      <td>32.0</td>\n",
       "      <td>4.488636</td>\n",
       "      <td>31.0</td>\n",
       "      <td>0.248</td>\n",
       "      <td>26</td>\n",
       "      <td>1</td>\n",
       "      <td>1.192308</td>\n",
       "    </tr>\n",
       "    <tr>\n",
       "      <th>8</th>\n",
       "      <td>2</td>\n",
       "      <td>197.0</td>\n",
       "      <td>70.0</td>\n",
       "      <td>45.0</td>\n",
       "      <td>5.887492</td>\n",
       "      <td>30.5</td>\n",
       "      <td>0.158</td>\n",
       "      <td>53</td>\n",
       "      <td>1</td>\n",
       "      <td>0.575472</td>\n",
       "    </tr>\n",
       "    <tr>\n",
       "      <th>13</th>\n",
       "      <td>1</td>\n",
       "      <td>189.0</td>\n",
       "      <td>60.0</td>\n",
       "      <td>23.0</td>\n",
       "      <td>5.887492</td>\n",
       "      <td>30.1</td>\n",
       "      <td>0.398</td>\n",
       "      <td>59</td>\n",
       "      <td>1</td>\n",
       "      <td>0.510169</td>\n",
       "    </tr>\n",
       "    <tr>\n",
       "      <th>...</th>\n",
       "      <td>...</td>\n",
       "      <td>...</td>\n",
       "      <td>...</td>\n",
       "      <td>...</td>\n",
       "      <td>...</td>\n",
       "      <td>...</td>\n",
       "      <td>...</td>\n",
       "      <td>...</td>\n",
       "      <td>...</td>\n",
       "      <td>...</td>\n",
       "    </tr>\n",
       "    <tr>\n",
       "      <th>778</th>\n",
       "      <td>2</td>\n",
       "      <td>129.0</td>\n",
       "      <td>74.0</td>\n",
       "      <td>26.0</td>\n",
       "      <td>5.327876</td>\n",
       "      <td>33.2</td>\n",
       "      <td>0.591</td>\n",
       "      <td>25</td>\n",
       "      <td>0</td>\n",
       "      <td>1.328000</td>\n",
       "    </tr>\n",
       "    <tr>\n",
       "      <th>781</th>\n",
       "      <td>1</td>\n",
       "      <td>140.0</td>\n",
       "      <td>74.0</td>\n",
       "      <td>26.0</td>\n",
       "      <td>5.198497</td>\n",
       "      <td>24.1</td>\n",
       "      <td>0.828</td>\n",
       "      <td>23</td>\n",
       "      <td>0</td>\n",
       "      <td>1.047826</td>\n",
       "    </tr>\n",
       "    <tr>\n",
       "      <th>782</th>\n",
       "      <td>1</td>\n",
       "      <td>144.0</td>\n",
       "      <td>82.0</td>\n",
       "      <td>46.0</td>\n",
       "      <td>5.198497</td>\n",
       "      <td>46.1</td>\n",
       "      <td>0.335</td>\n",
       "      <td>46</td>\n",
       "      <td>1</td>\n",
       "      <td>1.002174</td>\n",
       "    </tr>\n",
       "    <tr>\n",
       "      <th>785</th>\n",
       "      <td>2</td>\n",
       "      <td>121.0</td>\n",
       "      <td>70.0</td>\n",
       "      <td>32.0</td>\n",
       "      <td>4.564348</td>\n",
       "      <td>39.1</td>\n",
       "      <td>0.886</td>\n",
       "      <td>23</td>\n",
       "      <td>0</td>\n",
       "      <td>1.700000</td>\n",
       "    </tr>\n",
       "    <tr>\n",
       "      <th>786</th>\n",
       "      <td>7</td>\n",
       "      <td>129.0</td>\n",
       "      <td>68.0</td>\n",
       "      <td>49.0</td>\n",
       "      <td>4.836282</td>\n",
       "      <td>38.5</td>\n",
       "      <td>0.439</td>\n",
       "      <td>43</td>\n",
       "      <td>1</td>\n",
       "      <td>0.895349</td>\n",
       "    </tr>\n",
       "  </tbody>\n",
       "</table>\n",
       "<p>404 rows × 10 columns</p>\n",
       "</div>"
      ],
      "text/plain": [
       "     Pregnancies  Glucose  BloodPressure  SkinThickness   Insulin   BMI  \\\n",
       "3              1     89.0           66.0           23.0  4.553877  28.1   \n",
       "4              0    137.0           40.0           35.0  5.129899  43.1   \n",
       "6              3     78.0           50.0           32.0  4.488636  31.0   \n",
       "8              2    197.0           70.0           45.0  5.887492  30.5   \n",
       "13             1    189.0           60.0           23.0  5.887492  30.1   \n",
       "..           ...      ...            ...            ...       ...   ...   \n",
       "778            2    129.0           74.0           26.0  5.327876  33.2   \n",
       "781            1    140.0           74.0           26.0  5.198497  24.1   \n",
       "782            1    144.0           82.0           46.0  5.198497  46.1   \n",
       "785            2    121.0           70.0           32.0  4.564348  39.1   \n",
       "786            7    129.0           68.0           49.0  4.836282  38.5   \n",
       "\n",
       "     DiabetesPedigreeFunction  Age  Outcome   BMI/Age  \n",
       "3                       0.167   21        0  1.338095  \n",
       "4                       2.288   15        1  2.873333  \n",
       "6                       0.248   26        1  1.192308  \n",
       "8                       0.158   53        1  0.575472  \n",
       "13                      0.398   59        1  0.510169  \n",
       "..                        ...  ...      ...       ...  \n",
       "778                     0.591   25        0  1.328000  \n",
       "781                     0.828   23        0  1.047826  \n",
       "782                     0.335   46        1  1.002174  \n",
       "785                     0.886   23        0  1.700000  \n",
       "786                     0.439   43        1  0.895349  \n",
       "\n",
       "[404 rows x 10 columns]"
      ]
     },
     "metadata": {},
     "output_type": "display_data"
    }
   ],
   "source": [
    "print(\"--- Answer d ---\")\n",
    "def risk_function(value):\n",
    "    if value.BMI > 45 and value.BloodPressure > 100:\n",
    "        return 'High'\n",
    "    elif 30 < value.BMI < 45 and value.BloodPressure < 100:\n",
    "        return 'Medium'\n",
    "    elif value.BMI < 30:\n",
    "        return 'Low'\n",
    "    else:\n",
    "        return 'Unknown'\n",
    "        \n",
    "Insulin_data.Risk = Insulin_data.apply(risk_function, axis=1)\n",
    "display(Insulin_data)"
   ]
  },
  {
   "cell_type": "markdown",
   "id": "f892c975",
   "metadata": {},
   "source": [
    "e."
   ]
  },
  {
   "cell_type": "code",
   "execution_count": 818,
   "id": "94050e3c",
   "metadata": {},
   "outputs": [
    {
     "name": "stdout",
     "output_type": "stream",
     "text": [
      "--- Answer e ---\n"
     ]
    },
    {
     "data": {
      "text/html": [
       "<div>\n",
       "<style scoped>\n",
       "    .dataframe tbody tr th:only-of-type {\n",
       "        vertical-align: middle;\n",
       "    }\n",
       "\n",
       "    .dataframe tbody tr th {\n",
       "        vertical-align: top;\n",
       "    }\n",
       "\n",
       "    .dataframe thead th {\n",
       "        text-align: right;\n",
       "    }\n",
       "</style>\n",
       "<table border=\"1\" class=\"dataframe\">\n",
       "  <thead>\n",
       "    <tr style=\"text-align: right;\">\n",
       "      <th></th>\n",
       "      <th>Pregnancies</th>\n",
       "      <th>Glucose</th>\n",
       "      <th>BloodPressure</th>\n",
       "      <th>SkinThickness</th>\n",
       "      <th>Insulin</th>\n",
       "      <th>BMI</th>\n",
       "      <th>DiabetesPedigreeFunction</th>\n",
       "      <th>Age</th>\n",
       "      <th>Outcome</th>\n",
       "      <th>BMI/Age</th>\n",
       "      <th>AgeGroup</th>\n",
       "    </tr>\n",
       "  </thead>\n",
       "  <tbody>\n",
       "    <tr>\n",
       "      <th>0</th>\n",
       "      <td>1</td>\n",
       "      <td>89.0</td>\n",
       "      <td>66.0</td>\n",
       "      <td>23.0</td>\n",
       "      <td>4.553877</td>\n",
       "      <td>28.1</td>\n",
       "      <td>0.167</td>\n",
       "      <td>21</td>\n",
       "      <td>0</td>\n",
       "      <td>1.338095</td>\n",
       "      <td>Adult</td>\n",
       "    </tr>\n",
       "    <tr>\n",
       "      <th>1</th>\n",
       "      <td>2</td>\n",
       "      <td>142.0</td>\n",
       "      <td>82.0</td>\n",
       "      <td>18.0</td>\n",
       "      <td>4.174387</td>\n",
       "      <td>24.7</td>\n",
       "      <td>0.761</td>\n",
       "      <td>21</td>\n",
       "      <td>0</td>\n",
       "      <td>1.176190</td>\n",
       "      <td>Adult</td>\n",
       "    </tr>\n",
       "    <tr>\n",
       "      <th>2</th>\n",
       "      <td>1</td>\n",
       "      <td>126.0</td>\n",
       "      <td>56.0</td>\n",
       "      <td>29.0</td>\n",
       "      <td>5.030438</td>\n",
       "      <td>28.7</td>\n",
       "      <td>0.801</td>\n",
       "      <td>21</td>\n",
       "      <td>0</td>\n",
       "      <td>1.366667</td>\n",
       "      <td>Adult</td>\n",
       "    </tr>\n",
       "    <tr>\n",
       "      <th>3</th>\n",
       "      <td>4</td>\n",
       "      <td>99.0</td>\n",
       "      <td>76.0</td>\n",
       "      <td>15.0</td>\n",
       "      <td>3.951244</td>\n",
       "      <td>23.2</td>\n",
       "      <td>0.223</td>\n",
       "      <td>21</td>\n",
       "      <td>0</td>\n",
       "      <td>1.104762</td>\n",
       "      <td>Adult</td>\n",
       "    </tr>\n",
       "    <tr>\n",
       "      <th>4</th>\n",
       "      <td>0</td>\n",
       "      <td>100.0</td>\n",
       "      <td>70.0</td>\n",
       "      <td>26.0</td>\n",
       "      <td>3.931826</td>\n",
       "      <td>30.8</td>\n",
       "      <td>0.597</td>\n",
       "      <td>21</td>\n",
       "      <td>0</td>\n",
       "      <td>1.466667</td>\n",
       "      <td>Adult</td>\n",
       "    </tr>\n",
       "    <tr>\n",
       "      <th>...</th>\n",
       "      <td>...</td>\n",
       "      <td>...</td>\n",
       "      <td>...</td>\n",
       "      <td>...</td>\n",
       "      <td>...</td>\n",
       "      <td>...</td>\n",
       "      <td>...</td>\n",
       "      <td>...</td>\n",
       "      <td>...</td>\n",
       "      <td>...</td>\n",
       "      <td>...</td>\n",
       "    </tr>\n",
       "    <tr>\n",
       "      <th>399</th>\n",
       "      <td>1</td>\n",
       "      <td>164.0</td>\n",
       "      <td>82.0</td>\n",
       "      <td>43.0</td>\n",
       "      <td>4.219508</td>\n",
       "      <td>32.8</td>\n",
       "      <td>0.341</td>\n",
       "      <td>50</td>\n",
       "      <td>0</td>\n",
       "      <td>0.656000</td>\n",
       "      <td>Adult</td>\n",
       "    </tr>\n",
       "    <tr>\n",
       "      <th>400</th>\n",
       "      <td>11</td>\n",
       "      <td>138.0</td>\n",
       "      <td>74.0</td>\n",
       "      <td>26.0</td>\n",
       "      <td>4.976734</td>\n",
       "      <td>36.1</td>\n",
       "      <td>0.557</td>\n",
       "      <td>50</td>\n",
       "      <td>1</td>\n",
       "      <td>0.722000</td>\n",
       "      <td>Adult</td>\n",
       "    </tr>\n",
       "    <tr>\n",
       "      <th>401</th>\n",
       "      <td>8</td>\n",
       "      <td>124.0</td>\n",
       "      <td>76.0</td>\n",
       "      <td>24.0</td>\n",
       "      <td>5.887492</td>\n",
       "      <td>28.7</td>\n",
       "      <td>0.687</td>\n",
       "      <td>52</td>\n",
       "      <td>1</td>\n",
       "      <td>0.551923</td>\n",
       "      <td>Adult</td>\n",
       "    </tr>\n",
       "    <tr>\n",
       "      <th>402</th>\n",
       "      <td>3</td>\n",
       "      <td>176.0</td>\n",
       "      <td>86.0</td>\n",
       "      <td>27.0</td>\n",
       "      <td>5.056246</td>\n",
       "      <td>33.3</td>\n",
       "      <td>1.154</td>\n",
       "      <td>52</td>\n",
       "      <td>1</td>\n",
       "      <td>0.640385</td>\n",
       "      <td>Adult</td>\n",
       "    </tr>\n",
       "    <tr>\n",
       "      <th>403</th>\n",
       "      <td>10</td>\n",
       "      <td>101.0</td>\n",
       "      <td>76.0</td>\n",
       "      <td>48.0</td>\n",
       "      <td>5.198497</td>\n",
       "      <td>32.9</td>\n",
       "      <td>0.171</td>\n",
       "      <td>63</td>\n",
       "      <td>0</td>\n",
       "      <td>0.522222</td>\n",
       "      <td>Senior</td>\n",
       "    </tr>\n",
       "  </tbody>\n",
       "</table>\n",
       "<p>404 rows × 11 columns</p>\n",
       "</div>"
      ],
      "text/plain": [
       "     Pregnancies  Glucose  BloodPressure  SkinThickness   Insulin   BMI  \\\n",
       "0              1     89.0           66.0           23.0  4.553877  28.1   \n",
       "1              2    142.0           82.0           18.0  4.174387  24.7   \n",
       "2              1    126.0           56.0           29.0  5.030438  28.7   \n",
       "3              4     99.0           76.0           15.0  3.951244  23.2   \n",
       "4              0    100.0           70.0           26.0  3.931826  30.8   \n",
       "..           ...      ...            ...            ...       ...   ...   \n",
       "399            1    164.0           82.0           43.0  4.219508  32.8   \n",
       "400           11    138.0           74.0           26.0  4.976734  36.1   \n",
       "401            8    124.0           76.0           24.0  5.887492  28.7   \n",
       "402            3    176.0           86.0           27.0  5.056246  33.3   \n",
       "403           10    101.0           76.0           48.0  5.198497  32.9   \n",
       "\n",
       "     DiabetesPedigreeFunction  Age  Outcome   BMI/Age AgeGroup  \n",
       "0                       0.167   21        0  1.338095    Adult  \n",
       "1                       0.761   21        0  1.176190    Adult  \n",
       "2                       0.801   21        0  1.366667    Adult  \n",
       "3                       0.223   21        0  1.104762    Adult  \n",
       "4                       0.597   21        0  1.466667    Adult  \n",
       "..                        ...  ...      ...       ...      ...  \n",
       "399                     0.341   50        0  0.656000    Adult  \n",
       "400                     0.557   50        1  0.722000    Adult  \n",
       "401                     0.687   52        1  0.551923    Adult  \n",
       "402                     1.154   52        1  0.640385    Adult  \n",
       "403                     0.171   63        0  0.522222   Senior  \n",
       "\n",
       "[404 rows x 11 columns]"
      ]
     },
     "metadata": {},
     "output_type": "display_data"
    }
   ],
   "source": [
    "print(\"--- Answer e ---\")\n",
    "Ages = pd.read_csv('ages.csv')\n",
    "merged = pd.merge(Insulin_data,Ages, on='Age')\n",
    "display(merged)"
   ]
  },
  {
   "cell_type": "markdown",
   "id": "2edfa646",
   "metadata": {},
   "source": [
    "f."
   ]
  },
  {
   "cell_type": "code",
   "execution_count": 819,
   "id": "0a3f005d",
   "metadata": {},
   "outputs": [
    {
     "name": "stdout",
     "output_type": "stream",
     "text": [
      "--- Answer f ---\n"
     ]
    },
    {
     "data": {
      "text/html": [
       "<div>\n",
       "<style scoped>\n",
       "    .dataframe tbody tr th:only-of-type {\n",
       "        vertical-align: middle;\n",
       "    }\n",
       "\n",
       "    .dataframe tbody tr th {\n",
       "        vertical-align: top;\n",
       "    }\n",
       "\n",
       "    .dataframe thead th {\n",
       "        text-align: right;\n",
       "    }\n",
       "</style>\n",
       "<table border=\"1\" class=\"dataframe\">\n",
       "  <thead>\n",
       "    <tr style=\"text-align: right;\">\n",
       "      <th></th>\n",
       "      <th>Pregnancies</th>\n",
       "      <th>Glucose</th>\n",
       "      <th>BloodPressure</th>\n",
       "      <th>SkinThickness</th>\n",
       "      <th>Insulin</th>\n",
       "      <th>BMI</th>\n",
       "      <th>DiabetesPedigreeFunction</th>\n",
       "      <th>Age</th>\n",
       "      <th>Outcome</th>\n",
       "      <th>BMI/Age</th>\n",
       "      <th>AgeGroup_Adolescent</th>\n",
       "      <th>AgeGroup_Adult</th>\n",
       "      <th>AgeGroup_Senior</th>\n",
       "    </tr>\n",
       "  </thead>\n",
       "  <tbody>\n",
       "    <tr>\n",
       "      <th>0</th>\n",
       "      <td>1</td>\n",
       "      <td>89.0</td>\n",
       "      <td>66.0</td>\n",
       "      <td>23.0</td>\n",
       "      <td>4.553877</td>\n",
       "      <td>28.1</td>\n",
       "      <td>0.167</td>\n",
       "      <td>21</td>\n",
       "      <td>0</td>\n",
       "      <td>1.338095</td>\n",
       "      <td>0</td>\n",
       "      <td>1</td>\n",
       "      <td>0</td>\n",
       "    </tr>\n",
       "    <tr>\n",
       "      <th>1</th>\n",
       "      <td>2</td>\n",
       "      <td>142.0</td>\n",
       "      <td>82.0</td>\n",
       "      <td>18.0</td>\n",
       "      <td>4.174387</td>\n",
       "      <td>24.7</td>\n",
       "      <td>0.761</td>\n",
       "      <td>21</td>\n",
       "      <td>0</td>\n",
       "      <td>1.176190</td>\n",
       "      <td>0</td>\n",
       "      <td>1</td>\n",
       "      <td>0</td>\n",
       "    </tr>\n",
       "    <tr>\n",
       "      <th>2</th>\n",
       "      <td>1</td>\n",
       "      <td>126.0</td>\n",
       "      <td>56.0</td>\n",
       "      <td>29.0</td>\n",
       "      <td>5.030438</td>\n",
       "      <td>28.7</td>\n",
       "      <td>0.801</td>\n",
       "      <td>21</td>\n",
       "      <td>0</td>\n",
       "      <td>1.366667</td>\n",
       "      <td>0</td>\n",
       "      <td>1</td>\n",
       "      <td>0</td>\n",
       "    </tr>\n",
       "    <tr>\n",
       "      <th>3</th>\n",
       "      <td>4</td>\n",
       "      <td>99.0</td>\n",
       "      <td>76.0</td>\n",
       "      <td>15.0</td>\n",
       "      <td>3.951244</td>\n",
       "      <td>23.2</td>\n",
       "      <td>0.223</td>\n",
       "      <td>21</td>\n",
       "      <td>0</td>\n",
       "      <td>1.104762</td>\n",
       "      <td>0</td>\n",
       "      <td>1</td>\n",
       "      <td>0</td>\n",
       "    </tr>\n",
       "    <tr>\n",
       "      <th>4</th>\n",
       "      <td>0</td>\n",
       "      <td>100.0</td>\n",
       "      <td>70.0</td>\n",
       "      <td>26.0</td>\n",
       "      <td>3.931826</td>\n",
       "      <td>30.8</td>\n",
       "      <td>0.597</td>\n",
       "      <td>21</td>\n",
       "      <td>0</td>\n",
       "      <td>1.466667</td>\n",
       "      <td>0</td>\n",
       "      <td>1</td>\n",
       "      <td>0</td>\n",
       "    </tr>\n",
       "    <tr>\n",
       "      <th>...</th>\n",
       "      <td>...</td>\n",
       "      <td>...</td>\n",
       "      <td>...</td>\n",
       "      <td>...</td>\n",
       "      <td>...</td>\n",
       "      <td>...</td>\n",
       "      <td>...</td>\n",
       "      <td>...</td>\n",
       "      <td>...</td>\n",
       "      <td>...</td>\n",
       "      <td>...</td>\n",
       "      <td>...</td>\n",
       "      <td>...</td>\n",
       "    </tr>\n",
       "    <tr>\n",
       "      <th>399</th>\n",
       "      <td>1</td>\n",
       "      <td>164.0</td>\n",
       "      <td>82.0</td>\n",
       "      <td>43.0</td>\n",
       "      <td>4.219508</td>\n",
       "      <td>32.8</td>\n",
       "      <td>0.341</td>\n",
       "      <td>50</td>\n",
       "      <td>0</td>\n",
       "      <td>0.656000</td>\n",
       "      <td>0</td>\n",
       "      <td>1</td>\n",
       "      <td>0</td>\n",
       "    </tr>\n",
       "    <tr>\n",
       "      <th>400</th>\n",
       "      <td>11</td>\n",
       "      <td>138.0</td>\n",
       "      <td>74.0</td>\n",
       "      <td>26.0</td>\n",
       "      <td>4.976734</td>\n",
       "      <td>36.1</td>\n",
       "      <td>0.557</td>\n",
       "      <td>50</td>\n",
       "      <td>1</td>\n",
       "      <td>0.722000</td>\n",
       "      <td>0</td>\n",
       "      <td>1</td>\n",
       "      <td>0</td>\n",
       "    </tr>\n",
       "    <tr>\n",
       "      <th>401</th>\n",
       "      <td>8</td>\n",
       "      <td>124.0</td>\n",
       "      <td>76.0</td>\n",
       "      <td>24.0</td>\n",
       "      <td>5.887492</td>\n",
       "      <td>28.7</td>\n",
       "      <td>0.687</td>\n",
       "      <td>52</td>\n",
       "      <td>1</td>\n",
       "      <td>0.551923</td>\n",
       "      <td>0</td>\n",
       "      <td>1</td>\n",
       "      <td>0</td>\n",
       "    </tr>\n",
       "    <tr>\n",
       "      <th>402</th>\n",
       "      <td>3</td>\n",
       "      <td>176.0</td>\n",
       "      <td>86.0</td>\n",
       "      <td>27.0</td>\n",
       "      <td>5.056246</td>\n",
       "      <td>33.3</td>\n",
       "      <td>1.154</td>\n",
       "      <td>52</td>\n",
       "      <td>1</td>\n",
       "      <td>0.640385</td>\n",
       "      <td>0</td>\n",
       "      <td>1</td>\n",
       "      <td>0</td>\n",
       "    </tr>\n",
       "    <tr>\n",
       "      <th>403</th>\n",
       "      <td>10</td>\n",
       "      <td>101.0</td>\n",
       "      <td>76.0</td>\n",
       "      <td>48.0</td>\n",
       "      <td>5.198497</td>\n",
       "      <td>32.9</td>\n",
       "      <td>0.171</td>\n",
       "      <td>63</td>\n",
       "      <td>0</td>\n",
       "      <td>0.522222</td>\n",
       "      <td>0</td>\n",
       "      <td>0</td>\n",
       "      <td>1</td>\n",
       "    </tr>\n",
       "  </tbody>\n",
       "</table>\n",
       "<p>404 rows × 13 columns</p>\n",
       "</div>"
      ],
      "text/plain": [
       "     Pregnancies  Glucose  BloodPressure  SkinThickness   Insulin   BMI  \\\n",
       "0              1     89.0           66.0           23.0  4.553877  28.1   \n",
       "1              2    142.0           82.0           18.0  4.174387  24.7   \n",
       "2              1    126.0           56.0           29.0  5.030438  28.7   \n",
       "3              4     99.0           76.0           15.0  3.951244  23.2   \n",
       "4              0    100.0           70.0           26.0  3.931826  30.8   \n",
       "..           ...      ...            ...            ...       ...   ...   \n",
       "399            1    164.0           82.0           43.0  4.219508  32.8   \n",
       "400           11    138.0           74.0           26.0  4.976734  36.1   \n",
       "401            8    124.0           76.0           24.0  5.887492  28.7   \n",
       "402            3    176.0           86.0           27.0  5.056246  33.3   \n",
       "403           10    101.0           76.0           48.0  5.198497  32.9   \n",
       "\n",
       "     DiabetesPedigreeFunction  Age  Outcome   BMI/Age  AgeGroup_Adolescent  \\\n",
       "0                       0.167   21        0  1.338095                    0   \n",
       "1                       0.761   21        0  1.176190                    0   \n",
       "2                       0.801   21        0  1.366667                    0   \n",
       "3                       0.223   21        0  1.104762                    0   \n",
       "4                       0.597   21        0  1.466667                    0   \n",
       "..                        ...  ...      ...       ...                  ...   \n",
       "399                     0.341   50        0  0.656000                    0   \n",
       "400                     0.557   50        1  0.722000                    0   \n",
       "401                     0.687   52        1  0.551923                    0   \n",
       "402                     1.154   52        1  0.640385                    0   \n",
       "403                     0.171   63        0  0.522222                    0   \n",
       "\n",
       "     AgeGroup_Adult  AgeGroup_Senior  \n",
       "0                 1                0  \n",
       "1                 1                0  \n",
       "2                 1                0  \n",
       "3                 1                0  \n",
       "4                 1                0  \n",
       "..              ...              ...  \n",
       "399               1                0  \n",
       "400               1                0  \n",
       "401               1                0  \n",
       "402               1                0  \n",
       "403               0                1  \n",
       "\n",
       "[404 rows x 13 columns]"
      ]
     },
     "metadata": {},
     "output_type": "display_data"
    }
   ],
   "source": [
    "print(\"--- Answer f ---\")\n",
    "one_hot_encoded_df = pd.get_dummies(merged['AgeGroup'], prefix='AgeGroup')\n",
    "merged = pd.concat([merged, one_hot_encoded_df], axis=1)\n",
    "merged = merged.drop('AgeGroup', axis=1)\n",
    "merged.to_csv('Ages_Diabetes.csv',index=False)\n",
    "data_df= pd.read_csv('Ages_Diabetes.csv')\n",
    "display(data_df)"
   ]
  },
  {
   "cell_type": "code",
   "execution_count": null,
   "id": "f6381e31",
   "metadata": {},
   "outputs": [],
   "source": []
  }
 ],
 "metadata": {
  "kernelspec": {
   "display_name": "Python 3 (ipykernel)",
   "language": "python",
   "name": "python3"
  },
  "language_info": {
   "codemirror_mode": {
    "name": "ipython",
    "version": 3
   },
   "file_extension": ".py",
   "mimetype": "text/x-python",
   "name": "python",
   "nbconvert_exporter": "python",
   "pygments_lexer": "ipython3",
   "version": "3.11.4"
  }
 },
 "nbformat": 4,
 "nbformat_minor": 5
}
